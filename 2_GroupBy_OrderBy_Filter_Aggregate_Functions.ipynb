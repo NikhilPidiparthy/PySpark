{
 "cells": [
  {
   "cell_type": "code",
   "execution_count": 1,
   "metadata": {},
   "outputs": [],
   "source": [
    "import pyspark\n",
    "from pyspark.sql import SparkSession\n",
    "import findspark\n",
    "findspark.init()"
   ]
  },
  {
   "cell_type": "code",
   "execution_count": 2,
   "metadata": {},
   "outputs": [],
   "source": [
    "spark = SparkSession.builder.master(\"local\").appName(\"MyEmpApp\").getOrCreate()"
   ]
  },
  {
   "cell_type": "code",
   "execution_count": 3,
   "metadata": {},
   "outputs": [
    {
     "data": {
      "text/html": [
       "\n",
       "            <div>\n",
       "                <p><b>SparkSession - in-memory</b></p>\n",
       "                \n",
       "        <div>\n",
       "            <p><b>SparkContext</b></p>\n",
       "\n",
       "            <p><a href=\"http://LAPTOP-074CVDC8.bbrouter:4040\">Spark UI</a></p>\n",
       "\n",
       "            <dl>\n",
       "              <dt>Version</dt>\n",
       "                <dd><code>v3.3.0</code></dd>\n",
       "              <dt>Master</dt>\n",
       "                <dd><code>local</code></dd>\n",
       "              <dt>AppName</dt>\n",
       "                <dd><code>MyEmpApp</code></dd>\n",
       "            </dl>\n",
       "        </div>\n",
       "        \n",
       "            </div>\n",
       "        "
      ],
      "text/plain": [
       "<pyspark.sql.session.SparkSession at 0x177c7af3f40>"
      ]
     },
     "execution_count": 3,
     "metadata": {},
     "output_type": "execute_result"
    }
   ],
   "source": [
    "spark"
   ]
  },
  {
   "cell_type": "code",
   "execution_count": 4,
   "metadata": {},
   "outputs": [
    {
     "data": {
      "text/html": [
       "\n",
       "        <div>\n",
       "            <p><b>SparkContext</b></p>\n",
       "\n",
       "            <p><a href=\"http://LAPTOP-074CVDC8.bbrouter:4040\">Spark UI</a></p>\n",
       "\n",
       "            <dl>\n",
       "              <dt>Version</dt>\n",
       "                <dd><code>v3.3.0</code></dd>\n",
       "              <dt>Master</dt>\n",
       "                <dd><code>local</code></dd>\n",
       "              <dt>AppName</dt>\n",
       "                <dd><code>MyEmpApp</code></dd>\n",
       "            </dl>\n",
       "        </div>\n",
       "        "
      ],
      "text/plain": [
       "<SparkContext master=local appName=MyEmpApp>"
      ]
     },
     "execution_count": 4,
     "metadata": {},
     "output_type": "execute_result"
    }
   ],
   "source": [
    "spark.sparkContext"
   ]
  },
  {
   "cell_type": "code",
   "execution_count": 5,
   "metadata": {},
   "outputs": [],
   "source": [
    "DF1 = spark.read.csv(path=\"MySchool_v1.csv\",header=True)"
   ]
  },
  {
   "cell_type": "code",
   "execution_count": 6,
   "metadata": {},
   "outputs": [
    {
     "name": "stdout",
     "output_type": "stream",
     "text": [
      "+------+-----+-----+------+--------+-------------+-----------+---------------+\n",
      "|RollNo| Name|Class|Gender|Phone No|English Marks|Maths Marks|Computers Marks|\n",
      "+------+-----+-----+------+--------+-------------+-----------+---------------+\n",
      "|   8_1|Nikhi|    8|     M|  912345|           95|        100|             90|\n",
      "|   8_2| Akhi|    8|     M|  912346|           96|        100|             85|\n",
      "|   8_3|Sakhi|    8|     F|  912347|           79|        100|             80|\n",
      "|   8_4|Rakhi|    8|     M|  912348|           66|         95|             98|\n",
      "|   9_1| Kaki|    9|     F|  912349|           88|         85|             93|\n",
      "+------+-----+-----+------+--------+-------------+-----------+---------------+\n",
      "only showing top 5 rows\n",
      "\n"
     ]
    }
   ],
   "source": [
    "DF1.show(5)"
   ]
  },
  {
   "cell_type": "code",
   "execution_count": 7,
   "metadata": {
    "scrolled": true
   },
   "outputs": [
    {
     "name": "stdout",
     "output_type": "stream",
     "text": [
      "root\n",
      " |-- RollNo: string (nullable = true)\n",
      " |-- Name: string (nullable = true)\n",
      " |-- Class: string (nullable = true)\n",
      " |-- Gender: string (nullable = true)\n",
      " |-- Phone No: string (nullable = true)\n",
      " |-- English Marks: string (nullable = true)\n",
      " |-- Maths Marks: string (nullable = true)\n",
      " |-- Computers Marks: string (nullable = true)\n",
      "\n"
     ]
    }
   ],
   "source": [
    "DF1.printSchema()"
   ]
  },
  {
   "cell_type": "code",
   "execution_count": 8,
   "metadata": {
    "scrolled": true
   },
   "outputs": [
    {
     "name": "stdout",
     "output_type": "stream",
     "text": [
      "+------+-----+-----+------+--------+-------------+-----------+---------------+-----+\n",
      "|RollNo| Name|Class|Gender|Phone No|English Marks|Maths Marks|Computers Marks|Total|\n",
      "+------+-----+-----+------+--------+-------------+-----------+---------------+-----+\n",
      "|   8_1|Nikhi|    8|     M|  912345|           95|        100|             90|285.0|\n",
      "|   8_2| Akhi|    8|     M|  912346|           96|        100|             85|281.0|\n",
      "+------+-----+-----+------+--------+-------------+-----------+---------------+-----+\n",
      "only showing top 2 rows\n",
      "\n"
     ]
    }
   ],
   "source": [
    "#Adding new column \"Total\" Column\n",
    "\n",
    "from pyspark.sql.functions import col\n",
    "\n",
    "DF1 = DF1.withColumn(\"Total\",col(\"English Marks\")+col(\"Maths Marks\")+col(\"Computers Marks\"))\n",
    "DF1.show(2)"
   ]
  },
  {
   "cell_type": "code",
   "execution_count": 9,
   "metadata": {},
   "outputs": [
    {
     "data": {
      "text/plain": [
       "12"
      ]
     },
     "execution_count": 9,
     "metadata": {},
     "output_type": "execute_result"
    }
   ],
   "source": [
    "DF1.count()"
   ]
  },
  {
   "cell_type": "code",
   "execution_count": 10,
   "metadata": {},
   "outputs": [
    {
     "name": "stdout",
     "output_type": "stream",
     "text": [
      "+------+-----+\n",
      "|Gender|count|\n",
      "+------+-----+\n",
      "|     F|    6|\n",
      "|     M|    6|\n",
      "+------+-----+\n",
      "\n"
     ]
    }
   ],
   "source": [
    "DF1.groupby(\"Gender\").count().show()\n",
    "#DF1.groupBy(\"Gender\").count().show()"
   ]
  },
  {
   "cell_type": "code",
   "execution_count": 11,
   "metadata": {
    "scrolled": true
   },
   "outputs": [
    {
     "name": "stdout",
     "output_type": "stream",
     "text": [
      "+------+-----+\n",
      "|Gender|count|\n",
      "+------+-----+\n",
      "|     F|    6|\n",
      "|     M|    6|\n",
      "+------+-----+\n",
      "\n"
     ]
    }
   ],
   "source": [
    "DF1.groupBy(\"Gender\").count().orderBy(col(\"Gender\"),ascending=True).show()"
   ]
  },
  {
   "cell_type": "code",
   "execution_count": 12,
   "metadata": {},
   "outputs": [
    {
     "name": "stdout",
     "output_type": "stream",
     "text": [
      "+-----+-----+\n",
      "|Class|count|\n",
      "+-----+-----+\n",
      "|    8|    4|\n",
      "|    9|    3|\n",
      "|   10|    5|\n",
      "+-----+-----+\n",
      "\n"
     ]
    }
   ],
   "source": [
    "DF1.groupBy(\"Class\").count().show()"
   ]
  },
  {
   "cell_type": "code",
   "execution_count": 13,
   "metadata": {},
   "outputs": [
    {
     "name": "stdout",
     "output_type": "stream",
     "text": [
      "+-----+------------------+\n",
      "|Class|Number Of Students|\n",
      "+-----+------------------+\n",
      "|    8|                 4|\n",
      "|    9|                 3|\n",
      "|   10|                 5|\n",
      "+-----+------------------+\n",
      "\n"
     ]
    }
   ],
   "source": [
    "DF1.groupBy(\"Class\").count().withColumnRenamed(\"count\",\"Number Of Students\").show()"
   ]
  },
  {
   "cell_type": "code",
   "execution_count": 14,
   "metadata": {},
   "outputs": [
    {
     "name": "stdout",
     "output_type": "stream",
     "text": [
      "+-----+-----+\n",
      "|Class|count|\n",
      "+-----+-----+\n",
      "|   10|    5|\n",
      "|    8|    4|\n",
      "|    9|    3|\n",
      "+-----+-----+\n",
      "\n"
     ]
    }
   ],
   "source": [
    "DF1.groupBy(\"Class\").count().orderBy(col(\"Class\"),ascending=True).show()"
   ]
  },
  {
   "cell_type": "markdown",
   "metadata": {},
   "source": [
    "#### In the above output, the Class values are not in proper Descending order\n",
    "\n",
    "#### Can you say why the Class column values are not in proper Descneding order?"
   ]
  },
  {
   "cell_type": "code",
   "execution_count": null,
   "metadata": {
    "scrolled": false
   },
   "outputs": [],
   "source": []
  },
  {
   "cell_type": "code",
   "execution_count": null,
   "metadata": {},
   "outputs": [],
   "source": []
  },
  {
   "cell_type": "markdown",
   "metadata": {},
   "source": []
  },
  {
   "cell_type": "markdown",
   "metadata": {},
   "source": [
    "#### Ans: Check the Schema once, check the Data Type of Class Column"
   ]
  },
  {
   "cell_type": "code",
   "execution_count": 15,
   "metadata": {
    "scrolled": true
   },
   "outputs": [
    {
     "data": {
      "text/plain": [
       "[('RollNo', 'string'),\n",
       " ('Name', 'string'),\n",
       " ('Class', 'string'),\n",
       " ('Gender', 'string'),\n",
       " ('Phone No', 'string'),\n",
       " ('English Marks', 'string'),\n",
       " ('Maths Marks', 'string'),\n",
       " ('Computers Marks', 'string'),\n",
       " ('Total', 'double')]"
      ]
     },
     "execution_count": 15,
     "metadata": {},
     "output_type": "execute_result"
    }
   ],
   "source": [
    "DF1.dtypes"
   ]
  },
  {
   "cell_type": "raw",
   "metadata": {},
   "source": [
    "We are reading CSV file, so automatically every column data type can be considered as String Data Type\n",
    "To get the proper data types based on Column Values, we need to give an argument inferschema=True while reading the file"
   ]
  },
  {
   "cell_type": "code",
   "execution_count": 16,
   "metadata": {},
   "outputs": [
    {
     "data": {
      "text/plain": [
       "[('RollNo', 'string'),\n",
       " ('Name', 'string'),\n",
       " ('Class', 'int'),\n",
       " ('Gender', 'string'),\n",
       " ('Phone No', 'int'),\n",
       " ('English Marks', 'int'),\n",
       " ('Maths Marks', 'int'),\n",
       " ('Computers Marks', 'int')]"
      ]
     },
     "execution_count": 16,
     "metadata": {},
     "output_type": "execute_result"
    }
   ],
   "source": [
    "DF2 = spark.read.csv(path=\"MySchool_v1.csv\",header=True, inferSchema=True)\n",
    "DF2.dtypes"
   ]
  },
  {
   "cell_type": "raw",
   "metadata": {},
   "source": [
    "Now, check for orderBy, it will be in proper Descending order"
   ]
  },
  {
   "cell_type": "code",
   "execution_count": 17,
   "metadata": {
    "scrolled": true
   },
   "outputs": [
    {
     "name": "stdout",
     "output_type": "stream",
     "text": [
      "+-----+-----+\n",
      "|Class|count|\n",
      "+-----+-----+\n",
      "|    8|    4|\n",
      "|    9|    3|\n",
      "|   10|    5|\n",
      "+-----+-----+\n",
      "\n"
     ]
    }
   ],
   "source": [
    "DF2.groupBy(\"Class\").count().orderBy(col(\"Class\"),ascending=True).show() # ascending=False"
   ]
  },
  {
   "cell_type": "code",
   "execution_count": 18,
   "metadata": {},
   "outputs": [
    {
     "name": "stdout",
     "output_type": "stream",
     "text": [
      "+-----+------------------+\n",
      "|Class|Number Of Students|\n",
      "+-----+------------------+\n",
      "|    9|                 3|\n",
      "|    8|                 4|\n",
      "|   10|                 5|\n",
      "+-----+------------------+\n",
      "\n"
     ]
    }
   ],
   "source": [
    "DF2.groupBy(\"Class\").count().withColumnRenamed(\"count\",\"Number Of Students\").orderBy(col(\"Number Of Students\"),ascending=True).show()"
   ]
  },
  {
   "cell_type": "code",
   "execution_count": 19,
   "metadata": {},
   "outputs": [
    {
     "name": "stdout",
     "output_type": "stream",
     "text": [
      "+------+-----+-----+------+--------+-------------+-----------+---------------+\n",
      "|RollNo| Name|Class|Gender|Phone No|English Marks|Maths Marks|Computers Marks|\n",
      "+------+-----+-----+------+--------+-------------+-----------+---------------+\n",
      "|   8_4|Rakhi|    8|     M|  912348|           66|         95|             98|\n",
      "|   8_3|Sakhi|    8|     F|  912347|           79|        100|             80|\n",
      "|  10_3| Taki|   10|     F|  912354|           81|         88|             76|\n",
      "|  10_1| Paki|   10|     M|  912352|           82|         94|             84|\n",
      "|  10_2|Bakhi|   10|     M|  912353|           87|         86|             90|\n",
      "|   9_1| Kaki|    9|     F|  912349|           88|         85|             93|\n",
      "|   9_2| Jaki|    9|     M|  912350|           92|         82|             94|\n",
      "|   9_3| Maki|    9|     F|  912351|           93|         83|             88|\n",
      "|   8_1|Nikhi|    8|     M|  912345|           95|        100|             90|\n",
      "|  10_5|Gakhi|   10|     F|  912356|           95|         95|             95|\n",
      "|   8_2| Akhi|    8|     M|  912346|           96|        100|             85|\n",
      "|  10_4| Laki|   10|     F|  912355|           98|         96|             96|\n",
      "+------+-----+-----+------+--------+-------------+-----------+---------------+\n",
      "\n"
     ]
    }
   ],
   "source": [
    "DF2.orderBy(col(\"English Marks\"),ascending=True).show()"
   ]
  },
  {
   "cell_type": "code",
   "execution_count": 22,
   "metadata": {
    "scrolled": true
   },
   "outputs": [
    {
     "name": "stdout",
     "output_type": "stream",
     "text": [
      "+------+-----+-----+------+--------+-------------+-----------+---------------+\n",
      "|RollNo| Name|Class|Gender|Phone No|English Marks|Maths Marks|Computers Marks|\n",
      "+------+-----+-----+------+--------+-------------+-----------+---------------+\n",
      "|  10_4| Laki|   10|     F|  912355|           98|         96|             96|\n",
      "|  10_5|Gakhi|   10|     F|  912356|           95|         95|             95|\n",
      "|  10_2|Bakhi|   10|     M|  912353|           87|         86|             90|\n",
      "|  10_1| Paki|   10|     M|  912352|           82|         94|             84|\n",
      "|  10_3| Taki|   10|     F|  912354|           81|         88|             76|\n",
      "|   9_3| Maki|    9|     F|  912351|           93|         83|             88|\n",
      "|   9_2| Jaki|    9|     M|  912350|           92|         82|             94|\n",
      "|   9_1| Kaki|    9|     F|  912349|           88|         85|             93|\n",
      "|   8_2| Akhi|    8|     M|  912346|           96|        100|             85|\n",
      "|   8_1|Nikhi|    8|     M|  912345|           95|        100|             90|\n",
      "|   8_3|Sakhi|    8|     F|  912347|           79|        100|             80|\n",
      "|   8_4|Rakhi|    8|     M|  912348|           66|         95|             98|\n",
      "+------+-----+-----+------+--------+-------------+-----------+---------------+\n",
      "\n"
     ]
    }
   ],
   "source": [
    "DF2.orderBy(col(\"Class\"),col(\"English Marks\"),ascending=False).show() #both columns are in Descending order"
   ]
  },
  {
   "cell_type": "code",
   "execution_count": 23,
   "metadata": {
    "scrolled": false
   },
   "outputs": [
    {
     "name": "stdout",
     "output_type": "stream",
     "text": [
      "+------+-----+-----+------+--------+-------------+-----------+---------------+\n",
      "|RollNo| Name|Class|Gender|Phone No|English Marks|Maths Marks|Computers Marks|\n",
      "+------+-----+-----+------+--------+-------------+-----------+---------------+\n",
      "|   8_1|Nikhi|    8|     M|  912345|           95|        100|             90|\n",
      "|   8_2| Akhi|    8|     M|  912346|           96|        100|             85|\n",
      "|   8_3|Sakhi|    8|     F|  912347|           79|        100|             80|\n",
      "|   8_4|Rakhi|    8|     M|  912348|           66|         95|             98|\n",
      "|   9_1| Kaki|    9|     F|  912349|           88|         85|             93|\n",
      "|   9_2| Jaki|    9|     M|  912350|           92|         82|             94|\n",
      "|   9_3| Maki|    9|     F|  912351|           93|         83|             88|\n",
      "|  10_1| Paki|   10|     M|  912352|           82|         94|             84|\n",
      "|  10_2|Bakhi|   10|     M|  912353|           87|         86|             90|\n",
      "|  10_3| Taki|   10|     F|  912354|           81|         88|             76|\n",
      "|  10_4| Laki|   10|     F|  912355|           98|         96|             96|\n",
      "|  10_5|Gakhi|   10|     F|  912356|           95|         95|             95|\n",
      "+------+-----+-----+------+--------+-------------+-----------+---------------+\n",
      "\n"
     ]
    }
   ],
   "source": [
    "DF2.show()"
   ]
  },
  {
   "cell_type": "raw",
   "metadata": {},
   "source": [
    "For suppose we want \"Class\" column values in Descening order and \"English Marks\" column values in Ascening order"
   ]
  },
  {
   "cell_type": "code",
   "execution_count": 24,
   "metadata": {},
   "outputs": [
    {
     "name": "stdout",
     "output_type": "stream",
     "text": [
      "+------+-----+-----+------+--------+-------------+-----------+---------------+\n",
      "|RollNo| Name|Class|Gender|Phone No|English Marks|Maths Marks|Computers Marks|\n",
      "+------+-----+-----+------+--------+-------------+-----------+---------------+\n",
      "|  10_3| Taki|   10|     F|  912354|           81|         88|             76|\n",
      "|  10_1| Paki|   10|     M|  912352|           82|         94|             84|\n",
      "|  10_2|Bakhi|   10|     M|  912353|           87|         86|             90|\n",
      "|  10_5|Gakhi|   10|     F|  912356|           95|         95|             95|\n",
      "|  10_4| Laki|   10|     F|  912355|           98|         96|             96|\n",
      "|   9_1| Kaki|    9|     F|  912349|           88|         85|             93|\n",
      "|   9_2| Jaki|    9|     M|  912350|           92|         82|             94|\n",
      "|   9_3| Maki|    9|     F|  912351|           93|         83|             88|\n",
      "|   8_4|Rakhi|    8|     M|  912348|           66|         95|             98|\n",
      "|   8_3|Sakhi|    8|     F|  912347|           79|        100|             80|\n",
      "|   8_1|Nikhi|    8|     M|  912345|           95|        100|             90|\n",
      "|   8_2| Akhi|    8|     M|  912346|           96|        100|             85|\n",
      "+------+-----+-----+------+--------+-------------+-----------+---------------+\n",
      "\n"
     ]
    }
   ],
   "source": [
    "DF2.orderBy(col(\"Class\").desc(),col(\"English Marks\").asc()).show()"
   ]
  },
  {
   "cell_type": "raw",
   "metadata": {},
   "source": [
    "UDF:\n",
    "--- User Defined Function\n",
    "--- With UDFs, we can apply the functionality of a funtion which are defined by user to the DataFrame columns\n"
   ]
  },
  {
   "cell_type": "code",
   "execution_count": 26,
   "metadata": {
    "scrolled": true
   },
   "outputs": [
    {
     "name": "stdout",
     "output_type": "stream",
     "text": [
      "+------+-----+-----+------+--------+-------------+-----------+---------------+-----------+\n",
      "|RollNo| Name|Class|Gender|Phone No|English Marks|Maths Marks|Computers Marks|Total Marks|\n",
      "+------+-----+-----+------+--------+-------------+-----------+---------------+-----------+\n",
      "|   8_1|Nikhi|    8|     M|  912345|           95|        100|             90|        285|\n",
      "|   8_2| Akhi|    8|     M|  912346|           96|        100|             85|        281|\n",
      "+------+-----+-----+------+--------+-------------+-----------+---------------+-----------+\n",
      "only showing top 2 rows\n",
      "\n"
     ]
    }
   ],
   "source": [
    "from pyspark.sql.functions import udf\n",
    "from pyspark.sql.types import IntegerType\n",
    "\n",
    "def totalFunc(a,b,c):\n",
    "    return a+b+c\n",
    "#totalFunc(10,20,30)\n",
    "\n",
    "# Converting function to UDF\n",
    "UDFtotal = udf(totalFunc, IntegerType())\n",
    "\n",
    "DF3 = DF2.withColumn(\"Total Marks\",totalFunc(col(\"English Marks\"),col(\"Maths Marks\"),col(\"Computers Marks\")))\n",
    "DF3.show(2)"
   ]
  },
  {
   "cell_type": "raw",
   "metadata": {},
   "source": [
    "Changing Gender Types\n",
    "M to Male, F to FeMale"
   ]
  },
  {
   "cell_type": "code",
   "execution_count": 28,
   "metadata": {},
   "outputs": [
    {
     "name": "stdout",
     "output_type": "stream",
     "text": [
      "+------+-----+-----+------+--------+-------------+-----------+---------------+\n",
      "|RollNo| Name|Class|Gender|Phone No|English Marks|Maths Marks|Computers Marks|\n",
      "+------+-----+-----+------+--------+-------------+-----------+---------------+\n",
      "|   8_1|Nikhi|    8|  Male|  912345|           95|        100|             90|\n",
      "|   8_2| Akhi|    8|  Male|  912346|           96|        100|             85|\n",
      "|   8_3|Sakhi|    8|FeMale|  912347|           79|        100|             80|\n",
      "|   8_4|Rakhi|    8|  Male|  912348|           66|         95|             98|\n",
      "|   9_1| Kaki|    9|FeMale|  912349|           88|         85|             93|\n",
      "|   9_2| Jaki|    9|  Male|  912350|           92|         82|             94|\n",
      "+------+-----+-----+------+--------+-------------+-----------+---------------+\n",
      "only showing top 6 rows\n",
      "\n"
     ]
    }
   ],
   "source": [
    "from pyspark.sql.functions import udf\n",
    "\n",
    "def genderFunc(genderType):\n",
    "    if genderType==\"M\":\n",
    "        return \"Male\"\n",
    "    elif genderType==\"F\":\n",
    "        return \"FeMale\"\n",
    "    else:\n",
    "        return \"N/A\"\n",
    "    \n",
    "    \n",
    "UDFgender = udf(genderFunc) #by default it takes StringType()\n",
    "DF2 = DF2.withColumn(\"Gender\",UDFgender(col(\"Gender\")))\n",
    "DF2.show(6)"
   ]
  },
  {
   "cell_type": "raw",
   "metadata": {},
   "source": [
    "filter() \n",
    "where()\n",
    "These both do same work, we use these two methods to filter the data based on specific conditions"
   ]
  },
  {
   "cell_type": "raw",
   "metadata": {},
   "source": [
    "Use '&' for 'and', '|' for 'or', '~' for 'not' when building DataFrame boolean expressions"
   ]
  },
  {
   "cell_type": "code",
   "execution_count": 29,
   "metadata": {},
   "outputs": [
    {
     "name": "stdout",
     "output_type": "stream",
     "text": [
      "+------+-----+-----+------+--------+-------------+-----------+---------------+\n",
      "|RollNo| Name|Class|Gender|Phone No|English Marks|Maths Marks|Computers Marks|\n",
      "+------+-----+-----+------+--------+-------------+-----------+---------------+\n",
      "|  10_1| Paki|   10|  Male|  912352|           82|         94|             84|\n",
      "|  10_2|Bakhi|   10|  Male|  912353|           87|         86|             90|\n",
      "|  10_3| Taki|   10|FeMale|  912354|           81|         88|             76|\n",
      "|  10_4| Laki|   10|FeMale|  912355|           98|         96|             96|\n",
      "|  10_5|Gakhi|   10|FeMale|  912356|           95|         95|             95|\n",
      "+------+-----+-----+------+--------+-------------+-----------+---------------+\n",
      "\n"
     ]
    }
   ],
   "source": [
    "DF2.filter(col(\"Class\")==10).show() # only class 10 students\n",
    "#DF3.where(col(\"Class\")==10).show()"
   ]
  },
  {
   "cell_type": "code",
   "execution_count": 30,
   "metadata": {},
   "outputs": [
    {
     "name": "stdout",
     "output_type": "stream",
     "text": [
      "+------+-----+-----+------+--------+-------------+-----------+---------------+\n",
      "|RollNo| Name|Class|Gender|Phone No|English Marks|Maths Marks|Computers Marks|\n",
      "+------+-----+-----+------+--------+-------------+-----------+---------------+\n",
      "|   8_1|Nikhi|    8|  Male|  912345|           95|        100|             90|\n",
      "|   8_2| Akhi|    8|  Male|  912346|           96|        100|             85|\n",
      "|   8_3|Sakhi|    8|FeMale|  912347|           79|        100|             80|\n",
      "|   8_4|Rakhi|    8|  Male|  912348|           66|         95|             98|\n",
      "|   9_1| Kaki|    9|FeMale|  912349|           88|         85|             93|\n",
      "|   9_2| Jaki|    9|  Male|  912350|           92|         82|             94|\n",
      "|   9_3| Maki|    9|FeMale|  912351|           93|         83|             88|\n",
      "+------+-----+-----+------+--------+-------------+-----------+---------------+\n",
      "\n"
     ]
    }
   ],
   "source": [
    "DF2.filter(col(\"Class\")<10).show() #students who are lessthan the class 10"
   ]
  },
  {
   "cell_type": "code",
   "execution_count": 32,
   "metadata": {},
   "outputs": [
    {
     "name": "stdout",
     "output_type": "stream",
     "text": [
      "+------+-----+-----+------+--------+-------------+-----------+---------------+\n",
      "|RollNo| Name|Class|Gender|Phone No|English Marks|Maths Marks|Computers Marks|\n",
      "+------+-----+-----+------+--------+-------------+-----------+---------------+\n",
      "|   8_1|Nikhi|    8|  Male|  912345|           95|        100|             90|\n",
      "|   8_2| Akhi|    8|  Male|  912346|           96|        100|             85|\n",
      "|   8_3|Sakhi|    8|FeMale|  912347|           79|        100|             80|\n",
      "|   8_4|Rakhi|    8|  Male|  912348|           66|         95|             98|\n",
      "|   9_1| Kaki|    9|FeMale|  912349|           88|         85|             93|\n",
      "|   9_2| Jaki|    9|  Male|  912350|           92|         82|             94|\n",
      "|   9_3| Maki|    9|FeMale|  912351|           93|         83|             88|\n",
      "+------+-----+-----+------+--------+-------------+-----------+---------------+\n",
      "\n"
     ]
    }
   ],
   "source": [
    "DF2.filter(col(\"Class\")!=10).show() #students who are not from class 10\n",
    "# DF2.filter(~(col(\"Class\")==10)).show()"
   ]
  },
  {
   "cell_type": "code",
   "execution_count": 76,
   "metadata": {
    "scrolled": true
   },
   "outputs": [
    {
     "name": "stdout",
     "output_type": "stream",
     "text": [
      "+------+-----+-----+------+--------+-------------+-----------+---------------+\n",
      "|RollNo| Name|Class|Gender|Phone No|English Marks|Maths Marks|Computers Marks|\n",
      "+------+-----+-----+------+--------+-------------+-----------+---------------+\n",
      "|   9_1| Kaki|    9|FeMale|  912349|           88|         85|             93|\n",
      "|   9_2| Jaki|    9|  Male|  912350|           92|         82|             94|\n",
      "|   9_3| Maki|    9|FeMale|  912351|           93|         83|             88|\n",
      "|  10_1| Paki|   10|  Male|  912352|           82|         94|             84|\n",
      "|  10_2|Bakhi|   10|  Male|  912353|           87|         86|             90|\n",
      "|  10_3| Taki|   10|FeMale|  912354|           81|         88|             76|\n",
      "|  10_4| Laki|   10|FeMale|  912355|           98|         96|             96|\n",
      "|  10_5|Gakhi|   10|FeMale|  912356|           95|         95|             95|\n",
      "+------+-----+-----+------+--------+-------------+-----------+---------------+\n",
      "\n"
     ]
    }
   ],
   "source": [
    "DF2.filter((col(\"Class\")==10) | (col(\"Class\")==9)).show()  #students from class 9, class 10"
   ]
  },
  {
   "cell_type": "code",
   "execution_count": 33,
   "metadata": {},
   "outputs": [
    {
     "name": "stdout",
     "output_type": "stream",
     "text": [
      "+------+----+-----+------+--------+-------------+-----------+---------------+\n",
      "|RollNo|Name|Class|Gender|Phone No|English Marks|Maths Marks|Computers Marks|\n",
      "+------+----+-----+------+--------+-------------+-----------+---------------+\n",
      "|   9_1|Kaki|    9|FeMale|  912349|           88|         85|             93|\n",
      "|   9_2|Jaki|    9|  Male|  912350|           92|         82|             94|\n",
      "+------+----+-----+------+--------+-------------+-----------+---------------+\n",
      "\n"
     ]
    }
   ],
   "source": [
    "DF2.filter(col(\"English Marks\").isin(88,92)).show() "
   ]
  },
  {
   "cell_type": "code",
   "execution_count": 34,
   "metadata": {},
   "outputs": [
    {
     "name": "stdout",
     "output_type": "stream",
     "text": [
      "+-----+----+-------------+\n",
      "|Class|Name|English Marks|\n",
      "+-----+----+-------------+\n",
      "|    9|Kaki|           88|\n",
      "|    9|Jaki|           92|\n",
      "+-----+----+-------------+\n",
      "\n"
     ]
    }
   ],
   "source": [
    "DF2.select(col(\"Class\"),col(\"Name\"),col(\"English Marks\")).filter(col(\"English Marks\").isin(88,92)).show()"
   ]
  },
  {
   "cell_type": "code",
   "execution_count": 35,
   "metadata": {},
   "outputs": [
    {
     "name": "stdout",
     "output_type": "stream",
     "text": [
      "+-----+-----+-------------+\n",
      "|Class| Name|English Marks|\n",
      "+-----+-----+-------------+\n",
      "|    8|Nikhi|           95|\n",
      "|    8| Akhi|           96|\n",
      "|    8|Sakhi|           79|\n",
      "|    8|Rakhi|           66|\n",
      "|    9| Maki|           93|\n",
      "|   10| Paki|           82|\n",
      "|   10|Bakhi|           87|\n",
      "|   10| Taki|           81|\n",
      "|   10| Laki|           98|\n",
      "|   10|Gakhi|           95|\n",
      "+-----+-----+-------------+\n",
      "\n"
     ]
    }
   ],
   "source": [
    "DF2.select(col(\"Class\"),col(\"Name\"),col(\"English Marks\")).filter(~(col(\"English Marks\").isin(88,92))).show()"
   ]
  },
  {
   "cell_type": "code",
   "execution_count": 36,
   "metadata": {},
   "outputs": [
    {
     "name": "stdout",
     "output_type": "stream",
     "text": [
      "+------+-----+-----+------+--------+-------------+-----------+---------------+\n",
      "|RollNo| Name|Class|Gender|Phone No|English Marks|Maths Marks|Computers Marks|\n",
      "+------+-----+-----+------+--------+-------------+-----------+---------------+\n",
      "|   8_1|Nikhi|    8|  Male|  912345|           95|        100|             90|\n",
      "|   8_2| Akhi|    8|  Male|  912346|           96|        100|             85|\n",
      "|   8_3|Sakhi|    8|FeMale|  912347|           79|        100|             80|\n",
      "|   8_4|Rakhi|    8|  Male|  912348|           66|         95|             98|\n",
      "+------+-----+-----+------+--------+-------------+-----------+---------------+\n",
      "\n"
     ]
    }
   ],
   "source": [
    "DF2.filter(col(\"Class\").contains(8)).show()"
   ]
  },
  {
   "cell_type": "code",
   "execution_count": 37,
   "metadata": {},
   "outputs": [
    {
     "name": "stdout",
     "output_type": "stream",
     "text": [
      "+------+-----+-----+------+--------+-------------+-----------+---------------+\n",
      "|RollNo| Name|Class|Gender|Phone No|English Marks|Maths Marks|Computers Marks|\n",
      "+------+-----+-----+------+--------+-------------+-----------+---------------+\n",
      "|   8_3|Sakhi|    8|FeMale|  912347|           79|        100|             80|\n",
      "|   8_4|Rakhi|    8|  Male|  912348|           66|         95|             98|\n",
      "+------+-----+-----+------+--------+-------------+-----------+---------------+\n",
      "\n"
     ]
    }
   ],
   "source": [
    "DF2.filter(\n",
    "    (col(\"Class\").contains(8))\n",
    "    &\n",
    "    (col(\"Name\").contains(\"ak\"))                 \n",
    "    ).show()"
   ]
  },
  {
   "cell_type": "code",
   "execution_count": 38,
   "metadata": {},
   "outputs": [
    {
     "name": "stdout",
     "output_type": "stream",
     "text": [
      "+------+-----+-----+------+--------+-------------+-----------+---------------+\n",
      "|RollNo| Name|Class|Gender|Phone No|English Marks|Maths Marks|Computers Marks|\n",
      "+------+-----+-----+------+--------+-------------+-----------+---------------+\n",
      "|   8_1|Nikhi|    8|  Male|  912345|           95|        100|             90|\n",
      "|   8_2| Akhi|    8|  Male|  912346|           96|        100|             85|\n",
      "|   8_3|Sakhi|    8|FeMale|  912347|           79|        100|             80|\n",
      "|   8_4|Rakhi|    8|  Male|  912348|           66|         95|             98|\n",
      "+------+-----+-----+------+--------+-------------+-----------+---------------+\n",
      "\n"
     ]
    }
   ],
   "source": [
    "DF2.filter(\n",
    "    (col(\"Class\").contains(8))\n",
    "    &\n",
    "    (col(\"Maths Marks\")<=100)                 \n",
    "    ).show()"
   ]
  },
  {
   "cell_type": "code",
   "execution_count": 39,
   "metadata": {},
   "outputs": [
    {
     "name": "stdout",
     "output_type": "stream",
     "text": [
      "+------+-----+-----+------+--------+-------------+-----------+---------------+\n",
      "|RollNo| Name|Class|Gender|Phone No|English Marks|Maths Marks|Computers Marks|\n",
      "+------+-----+-----+------+--------+-------------+-----------+---------------+\n",
      "|   8_1|Nikhi|    8|  Male|  912345|           95|        100|             90|\n",
      "+------+-----+-----+------+--------+-------------+-----------+---------------+\n",
      "\n"
     ]
    }
   ],
   "source": [
    "DF2.filter(col(\"Name\").startswith(\"N\")).show()"
   ]
  },
  {
   "cell_type": "code",
   "execution_count": 40,
   "metadata": {
    "scrolled": true
   },
   "outputs": [
    {
     "name": "stdout",
     "output_type": "stream",
     "text": [
      "+------+----+-----+------+--------+-------------+-----------+---------------+\n",
      "|RollNo|Name|Class|Gender|Phone No|English Marks|Maths Marks|Computers Marks|\n",
      "+------+----+-----+------+--------+-------------+-----------+---------------+\n",
      "|   9_1|Kaki|    9|FeMale|  912349|           88|         85|             93|\n",
      "|   9_2|Jaki|    9|  Male|  912350|           92|         82|             94|\n",
      "|   9_3|Maki|    9|FeMale|  912351|           93|         83|             88|\n",
      "|  10_1|Paki|   10|  Male|  912352|           82|         94|             84|\n",
      "|  10_3|Taki|   10|FeMale|  912354|           81|         88|             76|\n",
      "|  10_4|Laki|   10|FeMale|  912355|           98|         96|             96|\n",
      "+------+----+-----+------+--------+-------------+-----------+---------------+\n",
      "\n"
     ]
    }
   ],
   "source": [
    "DF2.filter(col(\"Name\").endswith(\"aki\")).show()"
   ]
  },
  {
   "cell_type": "raw",
   "metadata": {},
   "source": [
    "Like wildcard operators\n",
    "The percent(%) sign represents one, zero or multiple characters.\n",
    "The underscore(_) represents a single character."
   ]
  },
  {
   "cell_type": "code",
   "execution_count": 43,
   "metadata": {},
   "outputs": [
    {
     "name": "stdout",
     "output_type": "stream",
     "text": [
      "+------+-----+-----+------+--------+-------------+-----------+---------------+-----------+\n",
      "|RollNo| Name|Class|Gender|Phone No|English Marks|Maths Marks|Computers Marks|Total Marks|\n",
      "+------+-----+-----+------+--------+-------------+-----------+---------------+-----------+\n",
      "|   8_1|Nikhi|    8|     M|  912345|           95|        100|             90|        285|\n",
      "|   8_2| Akhi|    8|     M|  912346|           96|        100|             85|        281|\n",
      "|   8_3|Sakhi|    8|     F|  912347|           79|        100|             80|        259|\n",
      "|   8_4|Rakhi|    8|     M|  912348|           66|         95|             98|        259|\n",
      "|   9_1| Kaki|    9|     F|  912349|           88|         85|             93|        266|\n",
      "|   9_2| Jaki|    9|     M|  912350|           92|         82|             94|        268|\n",
      "|   9_3| Maki|    9|     F|  912351|           93|         83|             88|        264|\n",
      "|  10_1| Paki|   10|     M|  912352|           82|         94|             84|        260|\n",
      "|  10_2|Bakhi|   10|     M|  912353|           87|         86|             90|        263|\n",
      "|  10_3| Taki|   10|     F|  912354|           81|         88|             76|        245|\n",
      "|  10_4| Laki|   10|     F|  912355|           98|         96|             96|        290|\n",
      "|  10_5|Gakhi|   10|     F|  912356|           95|         95|             95|        285|\n",
      "+------+-----+-----+------+--------+-------------+-----------+---------------+-----------+\n",
      "\n"
     ]
    }
   ],
   "source": [
    "DF3.filter(col(\"Name\").like(\"%\")).show() # gives all the rows as output, because % means one, zero or multiple characters "
   ]
  },
  {
   "cell_type": "code",
   "execution_count": 44,
   "metadata": {
    "scrolled": true
   },
   "outputs": [
    {
     "name": "stdout",
     "output_type": "stream",
     "text": [
      "+------+----+-----+------+--------+-------------+-----------+---------------+-----------+\n",
      "|RollNo|Name|Class|Gender|Phone No|English Marks|Maths Marks|Computers Marks|Total Marks|\n",
      "+------+----+-----+------+--------+-------------+-----------+---------------+-----------+\n",
      "|   8_2|Akhi|    8|     M|  912346|           96|        100|             85|        281|\n",
      "+------+----+-----+------+--------+-------------+-----------+---------------+-----------+\n",
      "\n"
     ]
    }
   ],
   "source": [
    "DF3.filter(col(\"Name\").like(\"_k%\")).show() # only one character before k "
   ]
  },
  {
   "cell_type": "code",
   "execution_count": 45,
   "metadata": {
    "scrolled": true
   },
   "outputs": [
    {
     "name": "stdout",
     "output_type": "stream",
     "text": [
      "+------+-----+-----+------+--------+-------------+-----------+---------------+-----------+\n",
      "|RollNo| Name|Class|Gender|Phone No|English Marks|Maths Marks|Computers Marks|Total Marks|\n",
      "+------+-----+-----+------+--------+-------------+-----------+---------------+-----------+\n",
      "|   8_1|Nikhi|    8|     M|  912345|           95|        100|             90|        285|\n",
      "|   8_3|Sakhi|    8|     F|  912347|           79|        100|             80|        259|\n",
      "|   8_4|Rakhi|    8|     M|  912348|           66|         95|             98|        259|\n",
      "|   9_1| Kaki|    9|     F|  912349|           88|         85|             93|        266|\n",
      "|   9_2| Jaki|    9|     M|  912350|           92|         82|             94|        268|\n",
      "|   9_3| Maki|    9|     F|  912351|           93|         83|             88|        264|\n",
      "|  10_1| Paki|   10|     M|  912352|           82|         94|             84|        260|\n",
      "|  10_2|Bakhi|   10|     M|  912353|           87|         86|             90|        263|\n",
      "|  10_3| Taki|   10|     F|  912354|           81|         88|             76|        245|\n",
      "|  10_4| Laki|   10|     F|  912355|           98|         96|             96|        290|\n",
      "|  10_5|Gakhi|   10|     F|  912356|           95|         95|             95|        285|\n",
      "+------+-----+-----+------+--------+-------------+-----------+---------------+-----------+\n",
      "\n"
     ]
    }
   ],
   "source": [
    "DF3.filter(col(\"Name\").like(\"__k%\")).show() # two characters before k"
   ]
  },
  {
   "cell_type": "code",
   "execution_count": 46,
   "metadata": {},
   "outputs": [
    {
     "name": "stdout",
     "output_type": "stream",
     "text": [
      "+------+-----+-----+------+--------+-------------+-----------+---------------+-----------+\n",
      "|RollNo| Name|Class|Gender|Phone No|English Marks|Maths Marks|Computers Marks|Total Marks|\n",
      "+------+-----+-----+------+--------+-------------+-----------+---------------+-----------+\n",
      "|  10_2|Bakhi|   10|     M|  912353|           87|         86|             90|        263|\n",
      "+------+-----+-----+------+--------+-------------+-----------+---------------+-----------+\n",
      "\n"
     ]
    }
   ],
   "source": [
    "DF3.filter(col(\"Name\").like(\"B_k%\")).show() # First B, any one character, k"
   ]
  },
  {
   "cell_type": "raw",
   "metadata": {},
   "source": [
    "dataFrame.filter(col(\"ColName\")==100)\n",
    "-------------------------------------------------------------------\n",
    "dataFrame.filter(col(\"ColName\")!=100)\n",
    "-------------------------------------------------------------------\n",
    "dataFrame.filter(~(col(\"ColName\")==100))\n",
    "dataFrame.filter(~(col(\"ColName\")>=90))\n",
    "dataFrame.filter(~(col(\"ColName\")<=100))\n",
    "-------------------------------------------------------------------\n",
    "dataFrame.filter(\n",
    "(col(\"ColName\")==100)\n",
    "& \n",
    "(col(\"ColName\")==\"SomeString\")\n",
    ")\n",
    "-------------------------------------------------------------------\n",
    "dataFrame.filter(\n",
    "(col(\"ColName\")==100)\n",
    "|\n",
    "(col(\"ColName\")==\"SomeString\")\n",
    ")\n",
    "-------------------------------------------------------------------\n",
    "dataFrame.filter(col(\"ColName\").startswith(\"A\"))\n",
    "dataFrame.filter(col(\"ColName\").endswith(\"a\"))\n",
    "dataFrame.filter(col(\"ColName\").contains(\"akh\"))\n",
    "-------------------------------------------------------------------\n",
    "dataFrame.filter(col(\"ColName\").isNull())\n",
    "dataFrame.filter(col(\"ColName\").isNotNull())\n",
    "dataFrame.filter(col(\"ColName\").isin(100,95))\n",
    "-------------------------------------------------------------------\n",
    "percent(%) means one, zero or multiple characters\n",
    "underscore(_) means a single character\n",
    "\n",
    "dataFrame.filter(col(\"ColName\").like(\"%_a_%\"))"
   ]
  },
  {
   "cell_type": "raw",
   "metadata": {},
   "source": [
    "# Working with Aggregate Functions\n",
    "\n",
    "Aggregate Functions are\n",
    "\n",
    "avg,\n",
    "count,\n",
    "max,\n",
    "min,\n",
    "mean,\n",
    "sum"
   ]
  },
  {
   "cell_type": "code",
   "execution_count": 47,
   "metadata": {},
   "outputs": [
    {
     "name": "stdout",
     "output_type": "stream",
     "text": [
      "+-----+-----+\n",
      "|Class|count|\n",
      "+-----+-----+\n",
      "|    9|    3|\n",
      "|    8|    4|\n",
      "|   10|    5|\n",
      "+-----+-----+\n",
      "\n"
     ]
    }
   ],
   "source": [
    "DF3.groupby(col(\"Class\")).count().show()"
   ]
  },
  {
   "cell_type": "code",
   "execution_count": 48,
   "metadata": {
    "scrolled": true
   },
   "outputs": [
    {
     "name": "stdout",
     "output_type": "stream",
     "text": [
      "+-----+----------+-------------+------------------+-----------------+--------------------+----------------+\n",
      "|Class|avg(Class)|avg(Phone No)|avg(English Marks)| avg(Maths Marks)|avg(Computers Marks)|avg(Total Marks)|\n",
      "+-----+----------+-------------+------------------+-----------------+--------------------+----------------+\n",
      "|    9|       9.0|     912350.0|              91.0|83.33333333333333|   91.66666666666667|           266.0|\n",
      "|    8|       8.0|     912346.5|              84.0|            98.75|               88.25|           271.0|\n",
      "|   10|      10.0|     912354.0|              88.6|             91.8|                88.2|           268.6|\n",
      "+-----+----------+-------------+------------------+-----------------+--------------------+----------------+\n",
      "\n"
     ]
    }
   ],
   "source": [
    "DF3.groupby(col(\"Class\")).avg().show()\n",
    "# DF3.groupby(col(\"Class\")).mean().show() # both are same"
   ]
  },
  {
   "cell_type": "code",
   "execution_count": 49,
   "metadata": {},
   "outputs": [
    {
     "name": "stdout",
     "output_type": "stream",
     "text": [
      "+-----+----------+-------------+------------------+----------------+--------------------+----------------+\n",
      "|Class|min(Class)|min(Phone No)|min(English Marks)|min(Maths Marks)|min(Computers Marks)|min(Total Marks)|\n",
      "+-----+----------+-------------+------------------+----------------+--------------------+----------------+\n",
      "|    9|         9|       912349|                88|              82|                  88|             264|\n",
      "|    8|         8|       912345|                66|              95|                  80|             259|\n",
      "|   10|        10|       912352|                81|              86|                  76|             245|\n",
      "+-----+----------+-------------+------------------+----------------+--------------------+----------------+\n",
      "\n"
     ]
    }
   ],
   "source": [
    "DF3.groupby(col(\"Class\")).min().show()"
   ]
  },
  {
   "cell_type": "code",
   "execution_count": 50,
   "metadata": {},
   "outputs": [
    {
     "name": "stdout",
     "output_type": "stream",
     "text": [
      "+-----+----------+-------------+------------------+----------------+--------------------+----------------+\n",
      "|Class|max(Class)|max(Phone No)|max(English Marks)|max(Maths Marks)|max(Computers Marks)|max(Total Marks)|\n",
      "+-----+----------+-------------+------------------+----------------+--------------------+----------------+\n",
      "|    9|         9|       912351|                93|              85|                  94|             268|\n",
      "|    8|         8|       912348|                96|             100|                  98|             285|\n",
      "|   10|        10|       912356|                98|              96|                  96|             290|\n",
      "+-----+----------+-------------+------------------+----------------+--------------------+----------------+\n",
      "\n"
     ]
    }
   ],
   "source": [
    "DF3.groupby(col(\"Class\")).max().show()"
   ]
  },
  {
   "cell_type": "code",
   "execution_count": 51,
   "metadata": {},
   "outputs": [],
   "source": [
    "# we have sum() also to find the sum of column values\n",
    "# DF3.groupby(col(\"Class\")).sum().show()"
   ]
  },
  {
   "cell_type": "code",
   "execution_count": 52,
   "metadata": {
    "scrolled": false
   },
   "outputs": [
    {
     "data": {
      "text/plain": [
       "[('RollNo', 'string'),\n",
       " ('Name', 'string'),\n",
       " ('Class', 'int'),\n",
       " ('Gender', 'string'),\n",
       " ('Phone No', 'int'),\n",
       " ('English Marks', 'int'),\n",
       " ('Maths Marks', 'int'),\n",
       " ('Computers Marks', 'int'),\n",
       " ('Total Marks', 'int')]"
      ]
     },
     "execution_count": 52,
     "metadata": {},
     "output_type": "execute_result"
    }
   ],
   "source": [
    "DF3.dtypes"
   ]
  },
  {
   "cell_type": "code",
   "execution_count": 53,
   "metadata": {
    "scrolled": true
   },
   "outputs": [
    {
     "name": "stdout",
     "output_type": "stream",
     "text": [
      "+------+-----+-----+------+--------+-------------+-----------+---------------+-----------+\n",
      "|RollNo| Name|Class|Gender|Phone No|English Marks|Maths Marks|Computers Marks|Total Marks|\n",
      "+------+-----+-----+------+--------+-------------+-----------+---------------+-----------+\n",
      "|   8_1|Nikhi|    8|     M|  912345|           95|        100|             90|        285|\n",
      "|   8_2| Akhi|    8|     M|  912346|           96|        100|             85|        281|\n",
      "|   8_3|Sakhi|    8|     F|  912347|           79|        100|             80|        259|\n",
      "|   8_4|Rakhi|    8|     M|  912348|           66|         95|             98|        259|\n",
      "|   9_1| Kaki|    9|     F|  912349|           88|         85|             93|        266|\n",
      "|   9_2| Jaki|    9|     M|  912350|           92|         82|             94|        268|\n",
      "|   9_3| Maki|    9|     F|  912351|           93|         83|             88|        264|\n",
      "|  10_1| Paki|   10|     M|  912352|           82|         94|             84|        260|\n",
      "|  10_2|Bakhi|   10|     M|  912353|           87|         86|             90|        263|\n",
      "|  10_3| Taki|   10|     F|  912354|           81|         88|             76|        245|\n",
      "|  10_4| Laki|   10|     F|  912355|           98|         96|             96|        290|\n",
      "|  10_5|Gakhi|   10|     F|  912356|           95|         95|             95|        285|\n",
      "+------+-----+-----+------+--------+-------------+-----------+---------------+-----------+\n",
      "\n"
     ]
    }
   ],
   "source": [
    "DF3.show()"
   ]
  },
  {
   "cell_type": "code",
   "execution_count": 54,
   "metadata": {},
   "outputs": [
    {
     "name": "stdout",
     "output_type": "stream",
     "text": [
      "+----------+\n",
      "|min(Class)|\n",
      "+----------+\n",
      "|         8|\n",
      "+----------+\n",
      "\n"
     ]
    }
   ],
   "source": [
    "DF3.agg(\n",
    "    {\n",
    "            \"Class\": \"min\"        \n",
    "    }\n",
    "\n",
    ").show()"
   ]
  },
  {
   "cell_type": "code",
   "execution_count": 55,
   "metadata": {
    "scrolled": true
   },
   "outputs": [
    {
     "name": "stdout",
     "output_type": "stream",
     "text": [
      "+-----+--------------------+----------------+------------------+----------------+\n",
      "|Class|max(Computers Marks)|max(Total Marks)|max(English Marks)|max(Maths Marks)|\n",
      "+-----+--------------------+----------------+------------------+----------------+\n",
      "|    9|                  94|             268|                93|              85|\n",
      "|    8|                  98|             285|                96|             100|\n",
      "|   10|                  96|             290|                98|              96|\n",
      "+-----+--------------------+----------------+------------------+----------------+\n",
      "\n"
     ]
    }
   ],
   "source": [
    "\n",
    "DF3.groupby(\"Class\").agg(\n",
    "    {\n",
    "            \"Maths Marks\":\"max\",\n",
    "            \"English Marks\":\"max\",\n",
    "            \"Computers Marks\":\"max\",            \n",
    "            \"Total Marks\": \"min\", # will not come in o/p\n",
    "            \"Total Marks\": \"max\" # will come in o/p, because, in dictionary morethan one same keys are there, last key value pair will be considered\n",
    "        \n",
    "    }\n",
    "\n",
    ").show()"
   ]
  },
  {
   "cell_type": "code",
   "execution_count": 56,
   "metadata": {},
   "outputs": [],
   "source": [
    "from pyspark.sql.functions import sum,avg,max,min,mean,count"
   ]
  },
  {
   "cell_type": "code",
   "execution_count": 57,
   "metadata": {},
   "outputs": [
    {
     "name": "stdout",
     "output_type": "stream",
     "text": [
      "+-----+----------------+----------------+------------------+------------------+\n",
      "|Class|min(Total Marks)|max(Total Marks)|min(English Marks)|max(English Marks)|\n",
      "+-----+----------------+----------------+------------------+------------------+\n",
      "|    9|             264|             268|                88|                93|\n",
      "|    8|             259|             285|                66|                96|\n",
      "|   10|             245|             290|                81|                98|\n",
      "+-----+----------------+----------------+------------------+------------------+\n",
      "\n"
     ]
    }
   ],
   "source": [
    "DF3.groupby( col(\"Class\") ).agg(  \n",
    "    \n",
    "    min(col(\"Total Marks\")), \n",
    "    max(col(\"Total Marks\")),    \n",
    "    min(col(\"English Marks\")),\n",
    "    max(col(\"English Marks\")),\n",
    "   \n",
    "\n",
    ").show()"
   ]
  },
  {
   "cell_type": "code",
   "execution_count": 58,
   "metadata": {},
   "outputs": [
    {
     "name": "stdout",
     "output_type": "stream",
     "text": [
      "+-----+------------------+--------------------+------------------+\n",
      "|Class|avg(English Marks)|count(English Marks)|sum(English Marks)|\n",
      "+-----+------------------+--------------------+------------------+\n",
      "|    9|              91.0|                   3|               273|\n",
      "|    8|              84.0|                   4|               336|\n",
      "|   10|              88.6|                   5|               443|\n",
      "+-----+------------------+--------------------+------------------+\n",
      "\n"
     ]
    }
   ],
   "source": [
    "DF3.groupby( col(\"Class\") ).agg( \n",
    "    avg(col(\"English Marks\")), # mean(col(\"English Marks\"))  both are same \n",
    "    count(col(\"English Marks\")),\n",
    "    sum(col(\"English Marks\"))\n",
    ").show()"
   ]
  },
  {
   "cell_type": "code",
   "execution_count": null,
   "metadata": {},
   "outputs": [],
   "source": []
  },
  {
   "cell_type": "code",
   "execution_count": null,
   "metadata": {},
   "outputs": [],
   "source": []
  },
  {
   "cell_type": "code",
   "execution_count": null,
   "metadata": {},
   "outputs": [],
   "source": []
  },
  {
   "cell_type": "code",
   "execution_count": null,
   "metadata": {},
   "outputs": [],
   "source": []
  },
  {
   "cell_type": "code",
   "execution_count": null,
   "metadata": {},
   "outputs": [],
   "source": []
  }
 ],
 "metadata": {
  "kernelspec": {
   "display_name": "Python 3",
   "language": "python",
   "name": "python3"
  },
  "language_info": {
   "codemirror_mode": {
    "name": "ipython",
    "version": 3
   },
   "file_extension": ".py",
   "mimetype": "text/x-python",
   "name": "python",
   "nbconvert_exporter": "python",
   "pygments_lexer": "ipython3",
   "version": "3.8.5"
  }
 },
 "nbformat": 4,
 "nbformat_minor": 4
}
