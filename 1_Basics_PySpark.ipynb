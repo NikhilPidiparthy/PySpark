{
 "cells": [
  {
   "cell_type": "code",
   "execution_count": 1,
   "metadata": {},
   "outputs": [],
   "source": [
    "import pyspark\n",
    "from pyspark.sql import SparkSession"
   ]
  },
  {
   "cell_type": "code",
   "execution_count": 2,
   "metadata": {},
   "outputs": [],
   "source": [
    "# This is not mandatory, but when you work in Jupyter notebooks, using the below lines of code avoid some errors\n",
    "import findspark\n",
    "findspark.init()"
   ]
  },
  {
   "cell_type": "code",
   "execution_count": 3,
   "metadata": {},
   "outputs": [],
   "source": [
    "#creating sparksession\n",
    "spark = SparkSession.builder.master(\"local\").appName(\"MySchoolApp\").getOrCreate()"
   ]
  },
  {
   "cell_type": "code",
   "execution_count": 4,
   "metadata": {},
   "outputs": [
    {
     "data": {
      "text/html": [
       "\n",
       "            <div>\n",
       "                <p><b>SparkSession - in-memory</b></p>\n",
       "                \n",
       "        <div>\n",
       "            <p><b>SparkContext</b></p>\n",
       "\n",
       "            <p><a href=\"http://host.docker.internal:4040\">Spark UI</a></p>\n",
       "\n",
       "            <dl>\n",
       "              <dt>Version</dt>\n",
       "                <dd><code>v3.3.0</code></dd>\n",
       "              <dt>Master</dt>\n",
       "                <dd><code>local</code></dd>\n",
       "              <dt>AppName</dt>\n",
       "                <dd><code>MySchoolApp</code></dd>\n",
       "            </dl>\n",
       "        </div>\n",
       "        \n",
       "            </div>\n",
       "        "
      ],
      "text/plain": [
       "<pyspark.sql.session.SparkSession at 0x1d10c252040>"
      ]
     },
     "execution_count": 4,
     "metadata": {},
     "output_type": "execute_result"
    }
   ],
   "source": [
    "spark"
   ]
  },
  {
   "cell_type": "code",
   "execution_count": 5,
   "metadata": {},
   "outputs": [
    {
     "data": {
      "text/plain": [
       "pyspark.sql.session.SparkSession"
      ]
     },
     "execution_count": 5,
     "metadata": {},
     "output_type": "execute_result"
    }
   ],
   "source": [
    "type(spark)"
   ]
  },
  {
   "cell_type": "code",
   "execution_count": 6,
   "metadata": {},
   "outputs": [
    {
     "data": {
      "text/plain": [
       "'3.3.0'"
      ]
     },
     "execution_count": 6,
     "metadata": {},
     "output_type": "execute_result"
    }
   ],
   "source": [
    "spark.version"
   ]
  },
  {
   "cell_type": "code",
   "execution_count": 7,
   "metadata": {},
   "outputs": [
    {
     "data": {
      "text/plain": [
       "'3.3.0'"
      ]
     },
     "execution_count": 7,
     "metadata": {},
     "output_type": "execute_result"
    }
   ],
   "source": [
    "spark.sparkContext.version"
   ]
  },
  {
   "cell_type": "code",
   "execution_count": 8,
   "metadata": {},
   "outputs": [
    {
     "data": {
      "text/plain": [
       "'local'"
      ]
     },
     "execution_count": 8,
     "metadata": {},
     "output_type": "execute_result"
    }
   ],
   "source": [
    "spark.sparkContext.master"
   ]
  },
  {
   "cell_type": "code",
   "execution_count": 9,
   "metadata": {},
   "outputs": [
    {
     "data": {
      "text/plain": [
       "'MySchoolApp'"
      ]
     },
     "execution_count": 9,
     "metadata": {},
     "output_type": "execute_result"
    }
   ],
   "source": [
    "spark.sparkContext.appName"
   ]
  },
  {
   "cell_type": "code",
   "execution_count": 10,
   "metadata": {},
   "outputs": [],
   "source": [
    "#Reading the data from CSV file\n",
    "schlDF1 = spark.read.csv(path=\"MySchool_v1.csv\") "
   ]
  },
  {
   "cell_type": "code",
   "execution_count": 11,
   "metadata": {},
   "outputs": [
    {
     "data": {
      "text/plain": [
       "pyspark.sql.dataframe.DataFrame"
      ]
     },
     "execution_count": 11,
     "metadata": {},
     "output_type": "execute_result"
    }
   ],
   "source": [
    "type(schlDF1)"
   ]
  },
  {
   "cell_type": "code",
   "execution_count": 12,
   "metadata": {},
   "outputs": [
    {
     "name": "stdout",
     "output_type": "stream",
     "text": [
      "+------+-----+-----+------+--------+-------------+-----------+---------------+\n",
      "|   _c0|  _c1|  _c2|   _c3|     _c4|          _c5|        _c6|            _c7|\n",
      "+------+-----+-----+------+--------+-------------+-----------+---------------+\n",
      "|RollNo| Name|Class|Gender|Phone No|English Marks|Maths Marks|Computers Marks|\n",
      "|   8_1|Nikhi|    8|     M|  912345|           95|        100|             90|\n",
      "|   8_2| Akhi|    8|     M|  912346|           96|        100|             85|\n",
      "|   8_3|Sakhi|    8|     F|  912347|           79|        100|             80|\n",
      "|   8_4|Rakhi|    8|     M|  912348|           66|         95|             98|\n",
      "|   9_1| Kaki|    9|     F|  912349|           88|         85|             93|\n",
      "|   9_2| Jaki|    9|     M|  912350|           92|         82|             94|\n",
      "|   9_3| Maki|    9|     F|  912351|           93|         83|             88|\n",
      "|  10_1| Paki|   10|     M|  912352|           82|         94|             84|\n",
      "|  10_2|Bakhi|   10|     M|  912353|           87|         86|             90|\n",
      "|  10_3| Taki|   10|     F|  912354|           81|         88|             76|\n",
      "|  10_4| Laki|   10|     F|  912355|           98|         96|             96|\n",
      "|  10_5|Gakhi|   10|     F|  912356|           95|         95|             95|\n",
      "+------+-----+-----+------+--------+-------------+-----------+---------------+\n",
      "\n"
     ]
    }
   ],
   "source": [
    "#Showing the data\n",
    "schlDF1.show() "
   ]
  },
  {
   "cell_type": "code",
   "execution_count": 13,
   "metadata": {},
   "outputs": [
    {
     "name": "stdout",
     "output_type": "stream",
     "text": [
      "+------+-----+-----+------+--------+-------------+-----------+---------------+\n",
      "|   _c0|  _c1|  _c2|   _c3|     _c4|          _c5|        _c6|            _c7|\n",
      "+------+-----+-----+------+--------+-------------+-----------+---------------+\n",
      "|RollNo| Name|Class|Gender|Phone No|English Marks|Maths Marks|Computers Marks|\n",
      "|   8_1|Nikhi|    8|     M|  912345|           95|        100|             90|\n",
      "|   8_2| Akhi|    8|     M|  912346|           96|        100|             85|\n",
      "|   8_3|Sakhi|    8|     F|  912347|           79|        100|             80|\n",
      "|   8_4|Rakhi|    8|     M|  912348|           66|         95|             98|\n",
      "+------+-----+-----+------+--------+-------------+-----------+---------------+\n",
      "only showing top 5 rows\n",
      "\n"
     ]
    }
   ],
   "source": [
    "schlDF1.show(5) "
   ]
  },
  {
   "cell_type": "markdown",
   "metadata": {},
   "source": [
    "From the above shown data, it is not taking first row as Header. So, to consider first row as Header, we need to take header=True as an argument inside read.csv(), i.e, read.csv(header=True) "
   ]
  },
  {
   "cell_type": "code",
   "execution_count": 14,
   "metadata": {},
   "outputs": [],
   "source": [
    "#Reading the data from CSV file with the header\n",
    "schlDF2 = spark.read.csv(path=\"MySchool_v1.csv\",header=True) "
   ]
  },
  {
   "cell_type": "code",
   "execution_count": 15,
   "metadata": {},
   "outputs": [
    {
     "name": "stdout",
     "output_type": "stream",
     "text": [
      "+------+-----+-----+------+--------+-------------+-----------+---------------+\n",
      "|RollNo| Name|Class|Gender|Phone No|English Marks|Maths Marks|Computers Marks|\n",
      "+------+-----+-----+------+--------+-------------+-----------+---------------+\n",
      "|   8_1|Nikhi|    8|     M|  912345|           95|        100|             90|\n",
      "|   8_2| Akhi|    8|     M|  912346|           96|        100|             85|\n",
      "|   8_3|Sakhi|    8|     F|  912347|           79|        100|             80|\n",
      "|   8_4|Rakhi|    8|     M|  912348|           66|         95|             98|\n",
      "|   9_1| Kaki|    9|     F|  912349|           88|         85|             93|\n",
      "+------+-----+-----+------+--------+-------------+-----------+---------------+\n",
      "only showing top 5 rows\n",
      "\n"
     ]
    }
   ],
   "source": [
    "schlDF2.show(5)"
   ]
  },
  {
   "cell_type": "code",
   "execution_count": 16,
   "metadata": {},
   "outputs": [
    {
     "name": "stdout",
     "output_type": "stream",
     "text": [
      "+------+-----+-----+------+--------+-------------+-----------+---------------+\n",
      "|RollNo|Name |Class|Gender|Phone No|English Marks|Maths Marks|Computers Marks|\n",
      "+------+-----+-----+------+--------+-------------+-----------+---------------+\n",
      "|8_1   |Nikhi|8    |M     |912345  |95           |100        |90             |\n",
      "|8_2   |Akhi |8    |M     |912346  |96           |100        |85             |\n",
      "|8_3   |Sakhi|8    |F     |912347  |79           |100        |80             |\n",
      "|8_4   |Rakhi|8    |M     |912348  |66           |95         |98             |\n",
      "|9_1   |Kaki |9    |F     |912349  |88           |85         |93             |\n",
      "+------+-----+-----+------+--------+-------------+-----------+---------------+\n",
      "only showing top 5 rows\n",
      "\n"
     ]
    }
   ],
   "source": [
    "schlDF2.show(5,truncate=False) #by default truncate=True\n",
    "#this shows the total text present in the each cell of row"
   ]
  },
  {
   "cell_type": "code",
   "execution_count": 17,
   "metadata": {
    "scrolled": true
   },
   "outputs": [
    {
     "name": "stdout",
     "output_type": "stream",
     "text": [
      "+------+----+-----+------+--------+-------------+-----------+---------------+\n",
      "|RollNo|Name|Class|Gender|Phone No|English Marks|Maths Marks|Computers Marks|\n",
      "+------+----+-----+------+--------+-------------+-----------+---------------+\n",
      "|     8|   N|    8|     M|       9|            9|          1|              9|\n",
      "|     8|   A|    8|     M|       9|            9|          1|              8|\n",
      "|     8|   S|    8|     F|       9|            7|          1|              8|\n",
      "|     8|   R|    8|     M|       9|            6|          9|              9|\n",
      "|     9|   K|    9|     F|       9|            8|          8|              9|\n",
      "+------+----+-----+------+--------+-------------+-----------+---------------+\n",
      "only showing top 5 rows\n",
      "\n"
     ]
    }
   ],
   "source": [
    "schlDF2.show(5,truncate=1) #this display only one character from each cell"
   ]
  },
  {
   "cell_type": "code",
   "execution_count": 18,
   "metadata": {},
   "outputs": [
    {
     "data": {
      "text/plain": [
       "Row(RollNo='8_1', Name='Nikhi', Class='8', Gender='M', Phone No='912345', English Marks='95', Maths Marks='100', Computers Marks='90')"
      ]
     },
     "execution_count": 18,
     "metadata": {},
     "output_type": "execute_result"
    }
   ],
   "source": [
    "#showing the first row\n",
    "schlDF2.head()"
   ]
  },
  {
   "cell_type": "code",
   "execution_count": 19,
   "metadata": {},
   "outputs": [
    {
     "data": {
      "text/plain": [
       "pyspark.sql.types.Row"
      ]
     },
     "execution_count": 19,
     "metadata": {},
     "output_type": "execute_result"
    }
   ],
   "source": [
    "type(schlDF2.head())"
   ]
  },
  {
   "cell_type": "code",
   "execution_count": 20,
   "metadata": {},
   "outputs": [
    {
     "data": {
      "text/plain": [
       "[Row(RollNo='8_1', Name='Nikhi', Class='8', Gender='M', Phone No='912345', English Marks='95', Maths Marks='100', Computers Marks='90'),\n",
       " Row(RollNo='8_2', Name='Akhi', Class='8', Gender='M', Phone No='912346', English Marks='96', Maths Marks='100', Computers Marks='85')]"
      ]
     },
     "execution_count": 20,
     "metadata": {},
     "output_type": "execute_result"
    }
   ],
   "source": [
    "schlDF2.head(2)"
   ]
  },
  {
   "cell_type": "code",
   "execution_count": 21,
   "metadata": {},
   "outputs": [
    {
     "data": {
      "text/plain": [
       "[Row(RollNo='10_4', Name='Laki', Class='10', Gender='F', Phone No='912355', English Marks='98', Maths Marks='96', Computers Marks='96'),\n",
       " Row(RollNo='10_5', Name='Gakhi', Class='10', Gender='F', Phone No='912356', English Marks='95', Maths Marks='95', Computers Marks='95')]"
      ]
     },
     "execution_count": 21,
     "metadata": {},
     "output_type": "execute_result"
    }
   ],
   "source": [
    "#showing the last rows\n",
    "schlDF2.tail(2) "
   ]
  },
  {
   "cell_type": "code",
   "execution_count": 22,
   "metadata": {},
   "outputs": [
    {
     "ename": "TypeError",
     "evalue": "tail() missing 1 required positional argument: 'num'",
     "output_type": "error",
     "traceback": [
      "\u001b[1;31m---------------------------------------------------------------------------\u001b[0m",
      "\u001b[1;31mTypeError\u001b[0m                                 Traceback (most recent call last)",
      "\u001b[1;32m<ipython-input-22-91b8be3bfd65>\u001b[0m in \u001b[0;36m<module>\u001b[1;34m\u001b[0m\n\u001b[1;32m----> 1\u001b[1;33m \u001b[0mschlDF2\u001b[0m\u001b[1;33m.\u001b[0m\u001b[0mtail\u001b[0m\u001b[1;33m(\u001b[0m\u001b[1;33m)\u001b[0m  \u001b[1;31m# this is not like head(), we must need to pass a number as an argument\u001b[0m\u001b[1;33m\u001b[0m\u001b[1;33m\u001b[0m\u001b[0m\n\u001b[0m",
      "\u001b[1;31mTypeError\u001b[0m: tail() missing 1 required positional argument: 'num'"
     ]
    }
   ],
   "source": [
    "schlDF2.tail()  # this is not like head(), we must need to pass a number as an argument"
   ]
  },
  {
   "cell_type": "code",
   "execution_count": 23,
   "metadata": {},
   "outputs": [
    {
     "data": {
      "text/plain": [
       "[Row(RollNo='8_1', Name='Nikhi', Class='8', Gender='M', Phone No='912345', English Marks='95', Maths Marks='100', Computers Marks='90'),\n",
       " Row(RollNo='8_2', Name='Akhi', Class='8', Gender='M', Phone No='912346', English Marks='96', Maths Marks='100', Computers Marks='85')]"
      ]
     },
     "execution_count": 23,
     "metadata": {},
     "output_type": "execute_result"
    }
   ],
   "source": [
    "# take() is also same as head, but we need to pass a number as an argument, otherwise, error will be shown\n",
    "schlDF2.take(2) "
   ]
  },
  {
   "cell_type": "code",
   "execution_count": 24,
   "metadata": {},
   "outputs": [
    {
     "ename": "TypeError",
     "evalue": "take() missing 1 required positional argument: 'num'",
     "output_type": "error",
     "traceback": [
      "\u001b[1;31m---------------------------------------------------------------------------\u001b[0m",
      "\u001b[1;31mTypeError\u001b[0m                                 Traceback (most recent call last)",
      "\u001b[1;32m<ipython-input-24-6257c46a5fb4>\u001b[0m in \u001b[0;36m<module>\u001b[1;34m\u001b[0m\n\u001b[1;32m----> 1\u001b[1;33m \u001b[0mschlDF2\u001b[0m\u001b[1;33m.\u001b[0m\u001b[0mtake\u001b[0m\u001b[1;33m(\u001b[0m\u001b[1;33m)\u001b[0m\u001b[1;33m\u001b[0m\u001b[1;33m\u001b[0m\u001b[0m\n\u001b[0m",
      "\u001b[1;31mTypeError\u001b[0m: take() missing 1 required positional argument: 'num'"
     ]
    }
   ],
   "source": [
    "schlDF2.take() "
   ]
  },
  {
   "cell_type": "code",
   "execution_count": 25,
   "metadata": {
    "scrolled": true
   },
   "outputs": [
    {
     "data": {
      "text/plain": [
       "[Row(RollNo='8_1', Name='Nikhi', Class='8', Gender='M', Phone No='912345', English Marks='95', Maths Marks='100', Computers Marks='90'),\n",
       " Row(RollNo='8_2', Name='Akhi', Class='8', Gender='M', Phone No='912346', English Marks='96', Maths Marks='100', Computers Marks='85'),\n",
       " Row(RollNo='8_3', Name='Sakhi', Class='8', Gender='F', Phone No='912347', English Marks='79', Maths Marks='100', Computers Marks='80'),\n",
       " Row(RollNo='8_4', Name='Rakhi', Class='8', Gender='M', Phone No='912348', English Marks='66', Maths Marks='95', Computers Marks='98'),\n",
       " Row(RollNo='9_1', Name='Kaki', Class='9', Gender='F', Phone No='912349', English Marks='88', Maths Marks='85', Computers Marks='93'),\n",
       " Row(RollNo='9_2', Name='Jaki', Class='9', Gender='M', Phone No='912350', English Marks='92', Maths Marks='82', Computers Marks='94'),\n",
       " Row(RollNo='9_3', Name='Maki', Class='9', Gender='F', Phone No='912351', English Marks='93', Maths Marks='83', Computers Marks='88'),\n",
       " Row(RollNo='10_1', Name='Paki', Class='10', Gender='M', Phone No='912352', English Marks='82', Maths Marks='94', Computers Marks='84'),\n",
       " Row(RollNo='10_2', Name='Bakhi', Class='10', Gender='M', Phone No='912353', English Marks='87', Maths Marks='86', Computers Marks='90'),\n",
       " Row(RollNo='10_3', Name='Taki', Class='10', Gender='F', Phone No='912354', English Marks='81', Maths Marks='88', Computers Marks='76'),\n",
       " Row(RollNo='10_4', Name='Laki', Class='10', Gender='F', Phone No='912355', English Marks='98', Maths Marks='96', Computers Marks='96'),\n",
       " Row(RollNo='10_5', Name='Gakhi', Class='10', Gender='F', Phone No='912356', English Marks='95', Maths Marks='95', Computers Marks='95')]"
      ]
     },
     "execution_count": 25,
     "metadata": {},
     "output_type": "execute_result"
    }
   ],
   "source": [
    "schlDF2.collect() #collect() shows all the rows of dataset"
   ]
  },
  {
   "cell_type": "code",
   "execution_count": 26,
   "metadata": {
    "scrolled": true
   },
   "outputs": [
    {
     "data": {
      "text/plain": [
       "['RollNo',\n",
       " 'Name',\n",
       " 'Class',\n",
       " 'Gender',\n",
       " 'Phone No',\n",
       " 'English Marks',\n",
       " 'Maths Marks',\n",
       " 'Computers Marks']"
      ]
     },
     "execution_count": 26,
     "metadata": {},
     "output_type": "execute_result"
    }
   ],
   "source": [
    "# checking the columns available in the dataset\n",
    "schlDF2.columns"
   ]
  },
  {
   "cell_type": "code",
   "execution_count": 27,
   "metadata": {},
   "outputs": [
    {
     "data": {
      "text/plain": [
       "list"
      ]
     },
     "execution_count": 27,
     "metadata": {},
     "output_type": "execute_result"
    }
   ],
   "source": [
    "type(schlDF2.columns)"
   ]
  },
  {
   "cell_type": "code",
   "execution_count": 28,
   "metadata": {},
   "outputs": [
    {
     "data": {
      "text/plain": [
       "8"
      ]
     },
     "execution_count": 28,
     "metadata": {},
     "output_type": "execute_result"
    }
   ],
   "source": [
    "len(schlDF2.columns)"
   ]
  },
  {
   "cell_type": "code",
   "execution_count": 29,
   "metadata": {},
   "outputs": [
    {
     "data": {
      "text/plain": [
       "[('RollNo', 'string'),\n",
       " ('Name', 'string'),\n",
       " ('Class', 'string'),\n",
       " ('Gender', 'string'),\n",
       " ('Phone No', 'string'),\n",
       " ('English Marks', 'string'),\n",
       " ('Maths Marks', 'string'),\n",
       " ('Computers Marks', 'string')]"
      ]
     },
     "execution_count": 29,
     "metadata": {},
     "output_type": "execute_result"
    }
   ],
   "source": [
    "#checking the column and thier type of data\n",
    "schlDF2.dtypes"
   ]
  },
  {
   "cell_type": "code",
   "execution_count": 30,
   "metadata": {},
   "outputs": [
    {
     "name": "stdout",
     "output_type": "stream",
     "text": [
      "root\n",
      " |-- RollNo: string (nullable = true)\n",
      " |-- Name: string (nullable = true)\n",
      " |-- Class: string (nullable = true)\n",
      " |-- Gender: string (nullable = true)\n",
      " |-- Phone No: string (nullable = true)\n",
      " |-- English Marks: string (nullable = true)\n",
      " |-- Maths Marks: string (nullable = true)\n",
      " |-- Computers Marks: string (nullable = true)\n",
      "\n"
     ]
    }
   ],
   "source": [
    "#checking the schema of the dataset\n",
    "schlDF2.printSchema()"
   ]
  },
  {
   "cell_type": "code",
   "execution_count": 31,
   "metadata": {},
   "outputs": [
    {
     "data": {
      "text/plain": [
       "12"
      ]
     },
     "execution_count": 31,
     "metadata": {},
     "output_type": "execute_result"
    }
   ],
   "source": [
    "#checking the number rows present inside the dataset\n",
    "schlDF2.count()"
   ]
  },
  {
   "cell_type": "code",
   "execution_count": 32,
   "metadata": {},
   "outputs": [
    {
     "name": "stdout",
     "output_type": "stream",
     "text": [
      "+------+-----+-----+------+--------+-------------+-----------+---------------+\n",
      "|RollNo| Name|Class|Gender|Phone No|English Marks|Maths Marks|Computers Marks|\n",
      "+------+-----+-----+------+--------+-------------+-----------+---------------+\n",
      "|   8_1|Nikhi|    8|     M|  912345|           95|        100|             90|\n",
      "|   8_2| Akhi|    8|     M|  912346|           96|        100|             85|\n",
      "|   8_3|Sakhi|    8|     F|  912347|           79|        100|             80|\n",
      "|   8_4|Rakhi|    8|     M|  912348|           66|         95|             98|\n",
      "|   9_1| Kaki|    9|     F|  912349|           88|         85|             93|\n",
      "+------+-----+-----+------+--------+-------------+-----------+---------------+\n",
      "only showing top 5 rows\n",
      "\n"
     ]
    }
   ],
   "source": [
    "schlDF2.show(5)"
   ]
  },
  {
   "cell_type": "code",
   "execution_count": 33,
   "metadata": {},
   "outputs": [
    {
     "name": "stdout",
     "output_type": "stream",
     "text": [
      "+------+-----+\n",
      "|RollNo| Name|\n",
      "+------+-----+\n",
      "|   8_1|Nikhi|\n",
      "|   8_2| Akhi|\n",
      "|   8_3|Sakhi|\n",
      "|   8_4|Rakhi|\n",
      "|   9_1| Kaki|\n",
      "+------+-----+\n",
      "only showing top 5 rows\n",
      "\n"
     ]
    }
   ],
   "source": [
    "#showing only required columns\n",
    "schlDF2.select(\"RollNo\",\"Name\").show(5)"
   ]
  },
  {
   "cell_type": "code",
   "execution_count": 34,
   "metadata": {},
   "outputs": [
    {
     "name": "stdout",
     "output_type": "stream",
     "text": [
      "+------+-----+\n",
      "|RollNo| Name|\n",
      "+------+-----+\n",
      "|   8_1|Nikhi|\n",
      "|   8_2| Akhi|\n",
      "|   8_3|Sakhi|\n",
      "|   8_4|Rakhi|\n",
      "|   9_1| Kaki|\n",
      "+------+-----+\n",
      "only showing top 5 rows\n",
      "\n"
     ]
    }
   ],
   "source": [
    "schlDF2.select([\"RollNo\",\"Name\"]).show(5)"
   ]
  },
  {
   "cell_type": "code",
   "execution_count": 35,
   "metadata": {},
   "outputs": [
    {
     "name": "stdout",
     "output_type": "stream",
     "text": [
      "+------+-----+-----+\n",
      "|RollNo| Name|Class|\n",
      "+------+-----+-----+\n",
      "|   8_1|Nikhi|    8|\n",
      "|   8_2| Akhi|    8|\n",
      "|   8_3|Sakhi|    8|\n",
      "|   8_4|Rakhi|    8|\n",
      "|   9_1| Kaki|    9|\n",
      "+------+-----+-----+\n",
      "only showing top 5 rows\n",
      "\n"
     ]
    }
   ],
   "source": [
    "schlDF2.select(schlDF2.RollNo,schlDF2.Name,schlDF2.Class).show(5)"
   ]
  },
  {
   "cell_type": "code",
   "execution_count": 36,
   "metadata": {},
   "outputs": [
    {
     "ename": "SyntaxError",
     "evalue": "invalid syntax (<ipython-input-36-61f69aa9eac2>, line 1)",
     "output_type": "error",
     "traceback": [
      "\u001b[1;36m  File \u001b[1;32m\"<ipython-input-36-61f69aa9eac2>\"\u001b[1;36m, line \u001b[1;32m1\u001b[0m\n\u001b[1;33m    schlDF2.select(schlDF2.RollNo,schlDF2.Name,schlDF2.Phone No).show(5)\u001b[0m\n\u001b[1;37m                                                             ^\u001b[0m\n\u001b[1;31mSyntaxError\u001b[0m\u001b[1;31m:\u001b[0m invalid syntax\n"
     ]
    }
   ],
   "source": [
    "schlDF2.select(schlDF2.RollNo,schlDF2.Name,schlDF2.Phone No).show(5)"
   ]
  },
  {
   "cell_type": "code",
   "execution_count": 37,
   "metadata": {},
   "outputs": [
    {
     "name": "stdout",
     "output_type": "stream",
     "text": [
      "+------+-----+--------+\n",
      "|RollNo| Name|Phone No|\n",
      "+------+-----+--------+\n",
      "|   8_1|Nikhi|  912345|\n",
      "|   8_2| Akhi|  912346|\n",
      "|   8_3|Sakhi|  912347|\n",
      "|   8_4|Rakhi|  912348|\n",
      "|   9_1| Kaki|  912349|\n",
      "+------+-----+--------+\n",
      "only showing top 5 rows\n",
      "\n"
     ]
    }
   ],
   "source": [
    "schlDF2.select(schlDF2.RollNo,schlDF2.Name,\"Phone No\").show(5)"
   ]
  },
  {
   "cell_type": "code",
   "execution_count": 38,
   "metadata": {
    "scrolled": true
   },
   "outputs": [
    {
     "name": "stdout",
     "output_type": "stream",
     "text": [
      "+------+-----+--------+\n",
      "|RollNo| Name|Phone No|\n",
      "+------+-----+--------+\n",
      "|   8_1|Nikhi|  912345|\n",
      "|   8_2| Akhi|  912346|\n",
      "|   8_3|Sakhi|  912347|\n",
      "|   8_4|Rakhi|  912348|\n",
      "|   9_1| Kaki|  912349|\n",
      "+------+-----+--------+\n",
      "only showing top 5 rows\n",
      "\n"
     ]
    }
   ],
   "source": [
    "from pyspark.sql.functions import col\n",
    "\n",
    "schlDF2.select(schlDF2.RollNo,schlDF2.Name,col(\"Phone No\")).show(5)"
   ]
  },
  {
   "cell_type": "code",
   "execution_count": 39,
   "metadata": {},
   "outputs": [
    {
     "name": "stdout",
     "output_type": "stream",
     "text": [
      "+-------+------+----+-----------------+------+-----------------+-----------------+-----------------+-----------------+\n",
      "|summary|RollNo|Name|            Class|Gender|         Phone No|    English Marks|      Maths Marks|  Computers Marks|\n",
      "+-------+------+----+-----------------+------+-----------------+-----------------+-----------------+-----------------+\n",
      "|  count|    12|  12|               12|    12|               12|               12|               12|               12|\n",
      "|   mean|  null|null|9.083333333333334|  null|         912350.5|87.66666666666667|             92.0|89.08333333333333|\n",
      "| stddev|  null|null|0.900336637378521|  null|3.605551275463989|9.306237725636532|6.822422923379536| 6.74817596005608|\n",
      "|    min|  10_1|Akhi|               10|     F|           912345|               66|              100|               76|\n",
      "|    max|   9_3|Taki|                9|     M|           912356|               98|               96|               98|\n",
      "+-------+------+----+-----------------+------+-----------------+-----------------+-----------------+-----------------+\n",
      "\n"
     ]
    }
   ],
   "source": [
    "#describe() displays all the details like count of rows, mean, min, max, standard deviation\n",
    "schlDF2.describe().show()"
   ]
  },
  {
   "cell_type": "code",
   "execution_count": 40,
   "metadata": {
    "scrolled": true
   },
   "outputs": [
    {
     "name": "stdout",
     "output_type": "stream",
     "text": [
      "+-------+------+----+-----------------+------+-----------------+-----------------+-----------------+-----------------+\n",
      "|summary|RollNo|Name|            Class|Gender|         Phone No|    English Marks|      Maths Marks|  Computers Marks|\n",
      "+-------+------+----+-----------------+------+-----------------+-----------------+-----------------+-----------------+\n",
      "|  count|    12|  12|               12|    12|               12|               12|               12|               12|\n",
      "|   mean|  null|null|9.083333333333334|  null|         912350.5|87.66666666666667|             92.0|89.08333333333333|\n",
      "| stddev|  null|null|0.900336637378521|  null|3.605551275463989|9.306237725636532|6.822422923379536| 6.74817596005608|\n",
      "|    min|  10_1|Akhi|               10|     F|           912345|               66|              100|               76|\n",
      "|    25%|  null|null|              8.0|  null|         912347.0|             81.0|             85.0|             84.0|\n",
      "|    50%|  null|null|              9.0|  null|         912350.0|             88.0|             94.0|             90.0|\n",
      "|    75%|  null|null|             10.0|  null|         912353.0|             95.0|             96.0|             94.0|\n",
      "|    max|   9_3|Taki|                9|     M|           912356|               98|               96|               98|\n",
      "+-------+------+----+-----------------+------+-----------------+-----------------+-----------------+-----------------+\n",
      "\n"
     ]
    }
   ],
   "source": [
    "#summary() displays all the details like count of rows, mean, min, max, standard deviation, 25%,50%,75% rows of the dataset\n",
    "\n",
    "schlDF2.summary().show()"
   ]
  },
  {
   "cell_type": "code",
   "execution_count": 41,
   "metadata": {},
   "outputs": [
    {
     "name": "stdout",
     "output_type": "stream",
     "text": [
      "+-------+------+----+-----+------+--------+-------------+-----------+---------------+\n",
      "|summary|RollNo|Name|Class|Gender|Phone No|English Marks|Maths Marks|Computers Marks|\n",
      "+-------+------+----+-----+------+--------+-------------+-----------+---------------+\n",
      "|     0%|  null|null|  8.0|  null|912345.0|         66.0|       82.0|           76.0|\n",
      "|     1%|  null|null|  8.0|  null|912345.0|         66.0|       82.0|           76.0|\n",
      "|    10%|  null|null|  8.0|  null|912346.0|         79.0|       83.0|           80.0|\n",
      "|    20%|  null|null|  8.0|  null|912347.0|         81.0|       85.0|           84.0|\n",
      "|    25%|  null|null|  8.0|  null|912347.0|         81.0|       85.0|           84.0|\n",
      "|    30%|  null|null|  8.0|  null|912348.0|         82.0|       86.0|           85.0|\n",
      "+-------+------+----+-----+------+--------+-------------+-----------+---------------+\n",
      "\n"
     ]
    }
   ],
   "source": [
    "#based on requirement, we can take our own %s\n",
    "schlDF2.summary(\"0%\",\"1%\",\"10%\",\"20%\",\"25%\",\"30%\").show()"
   ]
  },
  {
   "cell_type": "code",
   "execution_count": 42,
   "metadata": {},
   "outputs": [
    {
     "name": "stdout",
     "output_type": "stream",
     "text": [
      "+------+-----+-----+------+--------+-------------+-----------+---------------+\n",
      "|RollNo| Name|Class|Gender|Phone No|English Marks|Maths Marks|Computers Marks|\n",
      "+------+-----+-----+------+--------+-------------+-----------+---------------+\n",
      "|   8_1|Nikhi|    8|     M|  912345|           95|        100|             90|\n",
      "|   8_2| Akhi|    8|     M|  912346|           96|        100|             85|\n",
      "|   8_3|Sakhi|    8|     F|  912347|           79|        100|             80|\n",
      "|   8_4|Rakhi|    8|     M|  912348|           66|         95|             98|\n",
      "|   9_1| Kaki|    9|     F|  912349|           88|         85|             93|\n",
      "+------+-----+-----+------+--------+-------------+-----------+---------------+\n",
      "only showing top 5 rows\n",
      "\n"
     ]
    }
   ],
   "source": [
    "schlDF2.show(5)"
   ]
  },
  {
   "cell_type": "code",
   "execution_count": 43,
   "metadata": {
    "scrolled": true
   },
   "outputs": [
    {
     "name": "stdout",
     "output_type": "stream",
     "text": [
      "+------------+\n",
      "|Student Name|\n",
      "+------------+\n",
      "|       Nikhi|\n",
      "|        Akhi|\n",
      "+------------+\n",
      "only showing top 2 rows\n",
      "\n"
     ]
    }
   ],
   "source": [
    "# changing column name\n",
    "\n",
    "#schlDF2.select(col(\"Name\").alias(\"Student Name\")).show(2)\n",
    "\n",
    "schlDF2.select(schlDF2.Name.alias(\"Student Name\")).show(2)"
   ]
  },
  {
   "cell_type": "code",
   "execution_count": 44,
   "metadata": {},
   "outputs": [
    {
     "name": "stdout",
     "output_type": "stream",
     "text": [
      "+------+-------+-----+------+--------+-------------+-----------+---------------+\n",
      "|RollNo|NewName|Class|Gender|Phone No|English Marks|Maths Marks|Computers Marks|\n",
      "+------+-------+-----+------+--------+-------------+-----------+---------------+\n",
      "|   8_1|  Nikhi|    8|     M|  912345|           95|        100|             90|\n",
      "|   8_2|   Akhi|    8|     M|  912346|           96|        100|             85|\n",
      "|   8_3|  Sakhi|    8|     F|  912347|           79|        100|             80|\n",
      "+------+-------+-----+------+--------+-------------+-----------+---------------+\n",
      "only showing top 3 rows\n",
      "\n"
     ]
    }
   ],
   "source": [
    "# changing column name\n",
    "schlDF2.withColumnRenamed(\"Name\",\"NewName\").show(3)"
   ]
  },
  {
   "cell_type": "code",
   "execution_count": 46,
   "metadata": {},
   "outputs": [
    {
     "name": "stdout",
     "output_type": "stream",
     "text": [
      "+------+-----+-----+------+--------+-------------+-----------+---------------+--------------+\n",
      "|RollNo| Name|Class|Gender|Phone No|English Marks|Maths Marks|Computers Marks|ConstantColumn|\n",
      "+------+-----+-----+------+--------+-------------+-----------+---------------+--------------+\n",
      "|   8_1|Nikhi|    8|     M|  912345|           95|        100|             90|           100|\n",
      "|   8_2| Akhi|    8|     M|  912346|           96|        100|             85|           100|\n",
      "|   8_3|Sakhi|    8|     F|  912347|           79|        100|             80|           100|\n",
      "|   8_4|Rakhi|    8|     M|  912348|           66|         95|             98|           100|\n",
      "|   9_1| Kaki|    9|     F|  912349|           88|         85|             93|           100|\n",
      "+------+-----+-----+------+--------+-------------+-----------+---------------+--------------+\n",
      "only showing top 5 rows\n",
      "\n"
     ]
    }
   ],
   "source": [
    "# Adding constant value column to the dataframe\n",
    "\n",
    "from pyspark.sql.functions import lit\n",
    "\n",
    "schlDF2.withColumn(\"ConstantColumn\",lit(\"100\")).show(5)"
   ]
  },
  {
   "cell_type": "code",
   "execution_count": 47,
   "metadata": {
    "scrolled": true
   },
   "outputs": [
    {
     "name": "stdout",
     "output_type": "stream",
     "text": [
      "+------+-----+-----+------+--------+-------------+-----------+---------------+-----+\n",
      "|RollNo| Name|Class|Gender|Phone No|English Marks|Maths Marks|Computers Marks|Total|\n",
      "+------+-----+-----+------+--------+-------------+-----------+---------------+-----+\n",
      "|   8_1|Nikhi|    8|     M|  912345|           95|        100|             90|285.0|\n",
      "|   8_2| Akhi|    8|     M|  912346|           96|        100|             85|281.0|\n",
      "+------+-----+-----+------+--------+-------------+-----------+---------------+-----+\n",
      "only showing top 2 rows\n",
      "\n"
     ]
    }
   ],
   "source": [
    "# adding new column\n",
    "\n",
    "schlDF2.withColumn(\"Total\",col(\"English Marks\")+col(\"Maths Marks\")+col(\"Computers Marks\")).show(2)\n",
    "\n"
   ]
  },
  {
   "cell_type": "code",
   "execution_count": 48,
   "metadata": {
    "scrolled": true
   },
   "outputs": [
    {
     "name": "stdout",
     "output_type": "stream",
     "text": [
      "+------+-----+-----+------+--------+-------------+-----------+---------------+\n",
      "|RollNo| Name|Class|Gender|Phone No|English Marks|Maths Marks|Computers Marks|\n",
      "+------+-----+-----+------+--------+-------------+-----------+---------------+\n",
      "|   8_1|Nikhi|    8|     M|  912345|           95|        100|             90|\n",
      "|   8_2| Akhi|    8|     M|  912346|           96|        100|             85|\n",
      "+------+-----+-----+------+--------+-------------+-----------+---------------+\n",
      "only showing top 2 rows\n",
      "\n"
     ]
    }
   ],
   "source": [
    "schlDF2.show(2)"
   ]
  },
  {
   "cell_type": "code",
   "execution_count": 49,
   "metadata": {},
   "outputs": [
    {
     "name": "stdout",
     "output_type": "stream",
     "text": [
      "+------+-----+-----+------+--------+-------------+-----------+---------------+-----+--------------+\n",
      "|RollNo| Name|Class|Gender|Phone No|English Marks|Maths Marks|Computers Marks|Total|constantColumn|\n",
      "+------+-----+-----+------+--------+-------------+-----------+---------------+-----+--------------+\n",
      "|   8_1|Nikhi|    8|     M|  912345|           95|        100|             90|285.0|       Contant|\n",
      "|   8_2| Akhi|    8|     M|  912346|           96|        100|             85|281.0|       Contant|\n",
      "+------+-----+-----+------+--------+-------------+-----------+---------------+-----+--------------+\n",
      "only showing top 2 rows\n",
      "\n"
     ]
    }
   ],
   "source": [
    "# adding muliple columns by using withColumn()\n",
    "\n",
    "schlDF2.withColumn(\"Total\",col(\"English Marks\")+col(\"Maths Marks\")+col(\"Computers Marks\"))\\\n",
    ".withColumn(\"constantColumn\",lit(\"Contant\")).show(2)"
   ]
  },
  {
   "cell_type": "code",
   "execution_count": 62,
   "metadata": {},
   "outputs": [
    {
     "name": "stdout",
     "output_type": "stream",
     "text": [
      "+------+-----+-----+------+--------+-------------+-----------+---------------+-----+--------------+\n",
      "|RollNo| Name|Class|Gender|Phone No|English Marks|Maths Marks|Computers Marks|Total|constantColumn|\n",
      "+------+-----+-----+------+--------+-------------+-----------+---------------+-----+--------------+\n",
      "|   8_1|Nikhi|    8|     M|  912345|           95|        100|             90|285.0|       Contant|\n",
      "|   8_2| Akhi|    8|     M|  912346|           96|        100|             85|281.0|       Contant|\n",
      "+------+-----+-----+------+--------+-------------+-----------+---------------+-----+--------------+\n",
      "only showing top 2 rows\n",
      "\n"
     ]
    }
   ],
   "source": [
    "# adding muliple columns by using withColumns()\n",
    "\n",
    "D = {\"Total\":col(\"English Marks\")+col(\"Maths Marks\")+col(\"Computers Marks\"),\n",
    "    \"constantColumn\":lit(\"Contant\")\n",
    "    }\n",
    "schlDF2.withColumns(D).show(2)"
   ]
  },
  {
   "cell_type": "code",
   "execution_count": 63,
   "metadata": {},
   "outputs": [
    {
     "name": "stdout",
     "output_type": "stream",
     "text": [
      "+------+-----+-----+------+--------+-------------+-----------+---------------+-----+--------------+\n",
      "|RollNo| Name|Class|Gender|Phone No|English Marks|Maths Marks|Computers Marks|Total|constantColumn|\n",
      "+------+-----+-----+------+--------+-------------+-----------+---------------+-----+--------------+\n",
      "|   8_1|Nikhi|    8|     M|  912345|           95|        100|             90|285.0|       Contant|\n",
      "|   8_2| Akhi|    8|     M|  912346|           96|        100|             85|281.0|       Contant|\n",
      "+------+-----+-----+------+--------+-------------+-----------+---------------+-----+--------------+\n",
      "only showing top 2 rows\n",
      "\n"
     ]
    }
   ],
   "source": [
    "schlDF3 = schlDF2.withColumns(D)\n",
    "schlDF3.show(2)"
   ]
  },
  {
   "cell_type": "code",
   "execution_count": 65,
   "metadata": {
    "scrolled": true
   },
   "outputs": [
    {
     "name": "stdout",
     "output_type": "stream",
     "text": [
      "+------+-----+-----+------+--------+-------------+-----------+---------------+\n",
      "|RollNo| Name|Class|Gender|Phone No|English Marks|Maths Marks|Computers Marks|\n",
      "+------+-----+-----+------+--------+-------------+-----------+---------------+\n",
      "|   8_1|Nikhi|    8|     M|  912345|           95|        100|             90|\n",
      "|   8_2| Akhi|    8|     M|  912346|           96|        100|             85|\n",
      "+------+-----+-----+------+--------+-------------+-----------+---------------+\n",
      "only showing top 2 rows\n",
      "\n"
     ]
    }
   ],
   "source": [
    "#dropping unwanted column/columns\n",
    "\n",
    "#schlDF3.drop(\"constantColumn\").show(2)\n",
    "\n",
    "schlDF3.drop(\"Total\",\"constantColumn\").show(2)\n"
   ]
  },
  {
   "cell_type": "code",
   "execution_count": 66,
   "metadata": {
    "scrolled": true
   },
   "outputs": [
    {
     "name": "stdout",
     "output_type": "stream",
     "text": [
      "+------+-----+-----+------+--------+-------------+-----------+---------------+-----+--------------+\n",
      "|RollNo| Name|Class|Gender|Phone No|English Marks|Maths Marks|Computers Marks|Total|constantColumn|\n",
      "+------+-----+-----+------+--------+-------------+-----------+---------------+-----+--------------+\n",
      "|  10_4| Laki|   10|     F|  912355|           98|         96|             96|290.0|       Contant|\n",
      "|   8_1|Nikhi|    8|     M|  912345|           95|        100|             90|285.0|       Contant|\n",
      "|  10_5|Gakhi|   10|     F|  912356|           95|         95|             95|285.0|       Contant|\n",
      "|   8_2| Akhi|    8|     M|  912346|           96|        100|             85|281.0|       Contant|\n",
      "|   9_2| Jaki|    9|     M|  912350|           92|         82|             94|268.0|       Contant|\n",
      "|   9_1| Kaki|    9|     F|  912349|           88|         85|             93|266.0|       Contant|\n",
      "|   9_3| Maki|    9|     F|  912351|           93|         83|             88|264.0|       Contant|\n",
      "|  10_2|Bakhi|   10|     M|  912353|           87|         86|             90|263.0|       Contant|\n",
      "|  10_1| Paki|   10|     M|  912352|           82|         94|             84|260.0|       Contant|\n",
      "|   8_4|Rakhi|    8|     M|  912348|           66|         95|             98|259.0|       Contant|\n",
      "|   8_3|Sakhi|    8|     F|  912347|           79|        100|             80|259.0|       Contant|\n",
      "|  10_3| Taki|   10|     F|  912354|           81|         88|             76|245.0|       Contant|\n",
      "+------+-----+-----+------+--------+-------------+-----------+---------------+-----+--------------+\n",
      "\n"
     ]
    }
   ],
   "source": [
    "# Sorting the data based on provided column/columns\n",
    "\n",
    "\n",
    "#schlDF3.sort(col(\"Total\")).show() #by default it takes ascending order\n",
    "schlDF3.sort(col(\"Total\").desc()).show()\n",
    "\n",
    "#schlDF3.sort(schlDF3.Total.desc()).show()\n",
    "#schlDF3.sort(schlDF3.Total.asc()).show()\n",
    "#schlDF3.sort(col(\"Name\").asc(),col(\"Total\").desc()).show()"
   ]
  },
  {
   "cell_type": "code",
   "execution_count": 67,
   "metadata": {
    "scrolled": true
   },
   "outputs": [
    {
     "name": "stdout",
     "output_type": "stream",
     "text": [
      "+------+-----+-----+------+--------+-------------+-----------+---------------+\n",
      "|RollNo| Name|Class|Gender|Phone No|English Marks|Maths Marks|Computers Marks|\n",
      "+------+-----+-----+------+--------+-------------+-----------+---------------+\n",
      "|   8_1|Nikhi|    8|     M|  912345|           95|        100|             90|\n",
      "|   8_2| Akhi|    8|     M|  912346|           96|        100|             85|\n",
      "|   8_3|Sakhi|    8|     F|  912347|           79|        100|             80|\n",
      "|   8_4|Rakhi|    8|     M|  912348|           66|         95|             98|\n",
      "|   9_1| Kaki|    9|     F|  912349|           88|         85|             93|\n",
      "|   9_2| Jaki|    9|     M|  912350|           92|         82|             94|\n",
      "|   9_3| Maki|    9|     F|  912351|           93|         83|             88|\n",
      "|  10_1| Paki|   10|     M|  912352|           82|         94|             84|\n",
      "|  10_2|Bakhi|   10|     M|  912353|           87|         86|             90|\n",
      "|  10_3| Taki|   10|     F|  912354|           81|         88|             76|\n",
      "|  10_4| Laki|   10|     F|  912355|           98|         96|             96|\n",
      "|  10_5|Gakhi|   10|     F|  912356|           95|         95|             95|\n",
      "+------+-----+-----+------+--------+-------------+-----------+---------------+\n",
      "\n"
     ]
    }
   ],
   "source": [
    "schlDF2.show()"
   ]
  },
  {
   "cell_type": "code",
   "execution_count": 68,
   "metadata": {},
   "outputs": [
    {
     "name": "stdout",
     "output_type": "stream",
     "text": [
      "+------+\n",
      "|Gender|\n",
      "+------+\n",
      "|     F|\n",
      "|     M|\n",
      "+------+\n",
      "\n"
     ]
    }
   ],
   "source": [
    "# display Unique values\n",
    "# schlDF2.select(\"Gender\").distinct().count()\n",
    "\n",
    "schlDF2.select(\"Gender\").distinct().show()"
   ]
  },
  {
   "cell_type": "code",
   "execution_count": 69,
   "metadata": {
    "scrolled": true
   },
   "outputs": [
    {
     "data": {
      "text/plain": [
       "pandas.core.frame.DataFrame"
      ]
     },
     "execution_count": 69,
     "metadata": {},
     "output_type": "execute_result"
    }
   ],
   "source": [
    "#converting spark dataframe to pandas dataframe\n",
    "pandas_df = schlDF2.toPandas()\n",
    "type(pandas_df)"
   ]
  },
  {
   "cell_type": "code",
   "execution_count": 70,
   "metadata": {},
   "outputs": [
    {
     "data": {
      "text/plain": [
       "(12, 8)"
      ]
     },
     "execution_count": 70,
     "metadata": {},
     "output_type": "execute_result"
    }
   ],
   "source": [
    "pandas_df.shape"
   ]
  },
  {
   "cell_type": "code",
   "execution_count": 71,
   "metadata": {
    "scrolled": true
   },
   "outputs": [
    {
     "data": {
      "text/html": [
       "<div>\n",
       "<style scoped>\n",
       "    .dataframe tbody tr th:only-of-type {\n",
       "        vertical-align: middle;\n",
       "    }\n",
       "\n",
       "    .dataframe tbody tr th {\n",
       "        vertical-align: top;\n",
       "    }\n",
       "\n",
       "    .dataframe thead th {\n",
       "        text-align: right;\n",
       "    }\n",
       "</style>\n",
       "<table border=\"1\" class=\"dataframe\">\n",
       "  <thead>\n",
       "    <tr style=\"text-align: right;\">\n",
       "      <th></th>\n",
       "      <th>RollNo</th>\n",
       "      <th>Name</th>\n",
       "      <th>Class</th>\n",
       "      <th>Gender</th>\n",
       "      <th>Phone No</th>\n",
       "      <th>English Marks</th>\n",
       "      <th>Maths Marks</th>\n",
       "      <th>Computers Marks</th>\n",
       "    </tr>\n",
       "  </thead>\n",
       "  <tbody>\n",
       "    <tr>\n",
       "      <th>0</th>\n",
       "      <td>8_1</td>\n",
       "      <td>Nikhi</td>\n",
       "      <td>8</td>\n",
       "      <td>M</td>\n",
       "      <td>912345</td>\n",
       "      <td>95</td>\n",
       "      <td>100</td>\n",
       "      <td>90</td>\n",
       "    </tr>\n",
       "    <tr>\n",
       "      <th>1</th>\n",
       "      <td>8_2</td>\n",
       "      <td>Akhi</td>\n",
       "      <td>8</td>\n",
       "      <td>M</td>\n",
       "      <td>912346</td>\n",
       "      <td>96</td>\n",
       "      <td>100</td>\n",
       "      <td>85</td>\n",
       "    </tr>\n",
       "  </tbody>\n",
       "</table>\n",
       "</div>"
      ],
      "text/plain": [
       "  RollNo   Name Class Gender Phone No English Marks Maths Marks  \\\n",
       "0    8_1  Nikhi     8      M   912345            95         100   \n",
       "1    8_2   Akhi     8      M   912346            96         100   \n",
       "\n",
       "  Computers Marks  \n",
       "0              90  \n",
       "1              85  "
      ]
     },
     "execution_count": 71,
     "metadata": {},
     "output_type": "execute_result"
    }
   ],
   "source": [
    "pandas_df.head(2)"
   ]
  },
  {
   "cell_type": "code",
   "execution_count": 72,
   "metadata": {
    "scrolled": true
   },
   "outputs": [
    {
     "data": {
      "text/html": [
       "<div>\n",
       "<style scoped>\n",
       "    .dataframe tbody tr th:only-of-type {\n",
       "        vertical-align: middle;\n",
       "    }\n",
       "\n",
       "    .dataframe tbody tr th {\n",
       "        vertical-align: top;\n",
       "    }\n",
       "\n",
       "    .dataframe thead th {\n",
       "        text-align: right;\n",
       "    }\n",
       "</style>\n",
       "<table border=\"1\" class=\"dataframe\">\n",
       "  <thead>\n",
       "    <tr style=\"text-align: right;\">\n",
       "      <th></th>\n",
       "      <th>RollNo</th>\n",
       "      <th>Name</th>\n",
       "      <th>Class</th>\n",
       "      <th>Gender</th>\n",
       "      <th>Phone No</th>\n",
       "      <th>English Marks</th>\n",
       "      <th>Maths Marks</th>\n",
       "      <th>Computers Marks</th>\n",
       "    </tr>\n",
       "  </thead>\n",
       "  <tbody>\n",
       "    <tr>\n",
       "      <th>count</th>\n",
       "      <td>12</td>\n",
       "      <td>12</td>\n",
       "      <td>12</td>\n",
       "      <td>12</td>\n",
       "      <td>12</td>\n",
       "      <td>12</td>\n",
       "      <td>12</td>\n",
       "      <td>12</td>\n",
       "    </tr>\n",
       "    <tr>\n",
       "      <th>unique</th>\n",
       "      <td>12</td>\n",
       "      <td>12</td>\n",
       "      <td>3</td>\n",
       "      <td>2</td>\n",
       "      <td>12</td>\n",
       "      <td>11</td>\n",
       "      <td>9</td>\n",
       "      <td>11</td>\n",
       "    </tr>\n",
       "    <tr>\n",
       "      <th>top</th>\n",
       "      <td>10_1</td>\n",
       "      <td>Kaki</td>\n",
       "      <td>10</td>\n",
       "      <td>F</td>\n",
       "      <td>912352</td>\n",
       "      <td>95</td>\n",
       "      <td>100</td>\n",
       "      <td>90</td>\n",
       "    </tr>\n",
       "    <tr>\n",
       "      <th>freq</th>\n",
       "      <td>1</td>\n",
       "      <td>1</td>\n",
       "      <td>5</td>\n",
       "      <td>6</td>\n",
       "      <td>1</td>\n",
       "      <td>2</td>\n",
       "      <td>3</td>\n",
       "      <td>2</td>\n",
       "    </tr>\n",
       "  </tbody>\n",
       "</table>\n",
       "</div>"
      ],
      "text/plain": [
       "       RollNo  Name Class Gender Phone No English Marks Maths Marks  \\\n",
       "count      12    12    12     12       12            12          12   \n",
       "unique     12    12     3      2       12            11           9   \n",
       "top      10_1  Kaki    10      F   912352            95         100   \n",
       "freq        1     1     5      6        1             2           3   \n",
       "\n",
       "       Computers Marks  \n",
       "count               12  \n",
       "unique              11  \n",
       "top                 90  \n",
       "freq                 2  "
      ]
     },
     "execution_count": 72,
     "metadata": {},
     "output_type": "execute_result"
    }
   ],
   "source": [
    "pandas_df.describe()"
   ]
  },
  {
   "cell_type": "code",
   "execution_count": 73,
   "metadata": {},
   "outputs": [],
   "source": [
    "#creating a dataframe\n",
    "\n",
    "c1 = (\"India\",\"Asia\",91) # row 1\n",
    "c2 = (\"Nepal\",\"Asia\",977) # row 2\n",
    "\n",
    "conDF1 = spark.createDataFrame([c1,c2])"
   ]
  },
  {
   "cell_type": "code",
   "execution_count": 74,
   "metadata": {},
   "outputs": [
    {
     "data": {
      "text/plain": [
       "pyspark.sql.dataframe.DataFrame"
      ]
     },
     "execution_count": 74,
     "metadata": {},
     "output_type": "execute_result"
    }
   ],
   "source": [
    "type(conDF1)"
   ]
  },
  {
   "cell_type": "code",
   "execution_count": 75,
   "metadata": {},
   "outputs": [
    {
     "name": "stdout",
     "output_type": "stream",
     "text": [
      "+-----+----+---+\n",
      "|   _1|  _2| _3|\n",
      "+-----+----+---+\n",
      "|India|Asia| 91|\n",
      "|Nepal|Asia|977|\n",
      "+-----+----+---+\n",
      "\n"
     ]
    }
   ],
   "source": [
    "conDF1.show()"
   ]
  },
  {
   "cell_type": "code",
   "execution_count": 76,
   "metadata": {},
   "outputs": [
    {
     "data": {
      "text/plain": [
       "[('_1', 'string'), ('_2', 'string'), ('_3', 'bigint')]"
      ]
     },
     "execution_count": 76,
     "metadata": {},
     "output_type": "execute_result"
    }
   ],
   "source": [
    "conDF1.dtypes"
   ]
  },
  {
   "cell_type": "code",
   "execution_count": 77,
   "metadata": {},
   "outputs": [],
   "source": [
    "# creating a dataframe with our own schema\n",
    "from pyspark.sql.types import StructField, StructType, StringType, IntegerType\n",
    "\n",
    "conSchema = StructType(\n",
    "[\n",
    "    StructField(\"Country Name\",StringType(),nullable=True), #nullable=True by default,it means,it may have empty cells also\n",
    "    StructField(\"Continent Name\",StringType(),nullable=True),\n",
    "    StructField(\"Country Ph Code\",IntegerType(),nullable=False)    \n",
    "    \n",
    "]\n",
    ")"
   ]
  },
  {
   "cell_type": "code",
   "execution_count": 78,
   "metadata": {},
   "outputs": [
    {
     "name": "stdout",
     "output_type": "stream",
     "text": [
      "+------------+--------------+---------------+\n",
      "|Country Name|Continent Name|Country Ph Code|\n",
      "+------------+--------------+---------------+\n",
      "|       India|          Asia|             91|\n",
      "|       Nepal|          Asia|            977|\n",
      "+------------+--------------+---------------+\n",
      "\n"
     ]
    }
   ],
   "source": [
    "\n",
    "conDF2 = spark.createDataFrame([c1,c2],schema=conSchema)\n",
    "conDF2.show()"
   ]
  },
  {
   "cell_type": "code",
   "execution_count": 79,
   "metadata": {},
   "outputs": [
    {
     "data": {
      "text/plain": [
       "[('Country Name', 'string'),\n",
       " ('Continent Name', 'string'),\n",
       " ('Country Ph Code', 'int')]"
      ]
     },
     "execution_count": 79,
     "metadata": {},
     "output_type": "execute_result"
    }
   ],
   "source": [
    "conDF2.dtypes"
   ]
  },
  {
   "cell_type": "code",
   "execution_count": 80,
   "metadata": {
    "scrolled": true
   },
   "outputs": [
    {
     "name": "stdout",
     "output_type": "stream",
     "text": [
      "+------------+--------------+---------------+\n",
      "|Country Name|Continent Name|Country Ph Code|\n",
      "+------------+--------------+---------------+\n",
      "|    SriLanka|          Asia|             94|\n",
      "|       China|          Asia|             86|\n",
      "+------------+--------------+---------------+\n",
      "\n"
     ]
    }
   ],
   "source": [
    "# creating dataframe with our own schema\n",
    "NewConDF = spark.createDataFrame([(\"SriLanka\",\"Asia\",94),(\"China\",\"Asia\",86)],schema=conSchema)\n",
    "\n",
    "NewConDF.show()"
   ]
  },
  {
   "cell_type": "code",
   "execution_count": 81,
   "metadata": {
    "scrolled": false
   },
   "outputs": [
    {
     "name": "stdout",
     "output_type": "stream",
     "text": [
      "+------------+--------------+---------------+\n",
      "|Country Name|Continent Name|Country Ph Code|\n",
      "+------------+--------------+---------------+\n",
      "|       India|          Asia|             91|\n",
      "|       Nepal|          Asia|            977|\n",
      "|    SriLanka|          Asia|             94|\n",
      "|       China|          Asia|             86|\n",
      "+------------+--------------+---------------+\n",
      "\n"
     ]
    }
   ],
   "source": [
    "# appeding one dataframe to other dataframe\n",
    "\n",
    "finalDF = conDF2.union(NewConDF)\n",
    "\n",
    "finalDF.show()"
   ]
  },
  {
   "cell_type": "code",
   "execution_count": 82,
   "metadata": {},
   "outputs": [
    {
     "data": {
      "text/plain": [
       "[Row(Country Name='India', Continent Name='Asia', Country Ph Code=91),\n",
       " Row(Country Name='Nepal', Continent Name='Asia', Country Ph Code=977),\n",
       " Row(Country Name='SriLanka', Continent Name='Asia', Country Ph Code=94),\n",
       " Row(Country Name='China', Continent Name='Asia', Country Ph Code=86)]"
      ]
     },
     "execution_count": 82,
     "metadata": {},
     "output_type": "execute_result"
    }
   ],
   "source": [
    "finalDF.collect()"
   ]
  },
  {
   "cell_type": "code",
   "execution_count": 83,
   "metadata": {},
   "outputs": [
    {
     "data": {
      "text/plain": [
       "list"
      ]
     },
     "execution_count": 83,
     "metadata": {},
     "output_type": "execute_result"
    }
   ],
   "source": [
    "type(finalDF.collect())"
   ]
  },
  {
   "cell_type": "code",
   "execution_count": 86,
   "metadata": {},
   "outputs": [
    {
     "name": "stdout",
     "output_type": "stream",
     "text": [
      "+------------+--------------+---------------+\n",
      "|Country Name|Continent Name|Country Ph Code|\n",
      "+------------+--------------+---------------+\n",
      "|       India|          Asia|             91|\n",
      "|       Nepal|          Asia|            977|\n",
      "|    SriLanka|          Asia|             94|\n",
      "|       China|          Asia|             86|\n",
      "|      Bhutan|          Asia|            975|\n",
      "+------------+--------------+---------------+\n",
      "\n"
     ]
    }
   ],
   "source": [
    "# we can append in below way also\n",
    "\n",
    "L = finalDF.collect()\n",
    "L.append(\n",
    "{\n",
    "   \"Country Name\" : \"Bhutan\",\n",
    "    \"Continent Name\": \"Asia\",\n",
    "    \"Country Ph Code\": 975    \n",
    "}\n",
    ")\n",
    "spark.createDataFrame(L).show()"
   ]
  },
  {
   "cell_type": "code",
   "execution_count": 87,
   "metadata": {},
   "outputs": [],
   "source": [
    "# adding some duplicate rows \n",
    "\n",
    "L.extend(\n",
    "[\n",
    "{\n",
    "   \"Country Name\" : \"Bhutan\",\n",
    "    \"Continent Name\": \"Asia\",\n",
    "    \"Country Ph Code\": 975    \n",
    "}\n",
    ",\n",
    "{\n",
    "   \"Country Name\" : \"Bhutan\",\n",
    "    \"Continent Name\": \"Asia\",\n",
    "    \"Country Ph Code\": 975    \n",
    "}\n",
    "]\n",
    ")"
   ]
  },
  {
   "cell_type": "code",
   "execution_count": 88,
   "metadata": {
    "scrolled": true
   },
   "outputs": [
    {
     "data": {
      "text/plain": [
       "[Row(Country Name='India', Continent Name='Asia', Country Ph Code=91),\n",
       " Row(Country Name='Nepal', Continent Name='Asia', Country Ph Code=977),\n",
       " Row(Country Name='SriLanka', Continent Name='Asia', Country Ph Code=94),\n",
       " Row(Country Name='China', Continent Name='Asia', Country Ph Code=86),\n",
       " {'Country Name': 'Bhutan', 'Continent Name': 'Asia', 'Country Ph Code': 975},\n",
       " {'Country Name': 'Bhutan', 'Continent Name': 'Asia', 'Country Ph Code': 975},\n",
       " {'Country Name': 'Bhutan', 'Continent Name': 'Asia', 'Country Ph Code': 975}]"
      ]
     },
     "execution_count": 88,
     "metadata": {},
     "output_type": "execute_result"
    }
   ],
   "source": [
    "L"
   ]
  },
  {
   "cell_type": "code",
   "execution_count": 89,
   "metadata": {},
   "outputs": [
    {
     "name": "stdout",
     "output_type": "stream",
     "text": [
      "+------------+--------------+---------------+\n",
      "|Country Name|Continent Name|Country Ph Code|\n",
      "+------------+--------------+---------------+\n",
      "|       India|          Asia|             91|\n",
      "|       Nepal|          Asia|            977|\n",
      "|    SriLanka|          Asia|             94|\n",
      "|       China|          Asia|             86|\n",
      "|      Bhutan|          Asia|            975|\n",
      "|      Bhutan|          Asia|            975|\n",
      "|      Bhutan|          Asia|            975|\n",
      "+------------+--------------+---------------+\n",
      "\n"
     ]
    }
   ],
   "source": [
    "spark.createDataFrame(L).show()"
   ]
  },
  {
   "cell_type": "code",
   "execution_count": 91,
   "metadata": {},
   "outputs": [
    {
     "name": "stdout",
     "output_type": "stream",
     "text": [
      "+------------+--------------+---------------+\n",
      "|Country Name|Continent Name|Country Ph Code|\n",
      "+------------+--------------+---------------+\n",
      "|       India|          Asia|             91|\n",
      "|    SriLanka|          Asia|             94|\n",
      "|       China|          Asia|             86|\n",
      "|       Nepal|          Asia|            977|\n",
      "|      Bhutan|          Asia|            975|\n",
      "+------------+--------------+---------------+\n",
      "\n"
     ]
    }
   ],
   "source": [
    "#dropping duplicates based on provided list column/columns\n",
    "\n",
    "spark.createDataFrame(L).dropDuplicates().show()\n",
    "\n",
    "# spark.createDataFrame(L).dropDuplicates([\"Country Name\"]).show()\n",
    "\n",
    "# spark.createDataFrame(L).dropDuplicates([\"Country Name\",\"Continent Name\"]).show()"
   ]
  },
  {
   "cell_type": "code",
   "execution_count": null,
   "metadata": {},
   "outputs": [],
   "source": []
  }
 ],
 "metadata": {
  "kernelspec": {
   "display_name": "Python 3",
   "language": "python",
   "name": "python3"
  },
  "language_info": {
   "codemirror_mode": {
    "name": "ipython",
    "version": 3
   },
   "file_extension": ".py",
   "mimetype": "text/x-python",
   "name": "python",
   "nbconvert_exporter": "python",
   "pygments_lexer": "ipython3",
   "version": "3.8.5"
  }
 },
 "nbformat": 4,
 "nbformat_minor": 4
}
