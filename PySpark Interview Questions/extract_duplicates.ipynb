{
 "cells": [
  {
   "cell_type": "code",
   "execution_count": 1,
   "metadata": {},
   "outputs": [
    {
     "name": "stderr",
     "output_type": "stream",
     "text": [
      "Setting default log level to \"WARN\".\n",
      "To adjust logging level use sc.setLogLevel(newLevel). For SparkR, use setLogLevel(newLevel).\n",
      "23/02/26 11:54:00 WARN NativeCodeLoader: Unable to load native-hadoop library for your platform... using builtin-java classes where applicable\n"
     ]
    }
   ],
   "source": [
    "from pyspark.sql import SparkSession\n",
    "\n",
    "spark = SparkSession.builder.master(\"local\").appName(\"dupli_ex_1\").getOrCreate()"
   ]
  },
  {
   "cell_type": "code",
   "execution_count": 2,
   "metadata": {},
   "outputs": [
    {
     "name": "stdout",
     "output_type": "stream",
     "text": [
      "+-----+---+\n",
      "| Name|Age|\n",
      "+-----+---+\n",
      "|  Nik| 26|\n",
      "|  Akh| 31|\n",
      "| Sony| 35|\n",
      "|  Nik| 26|\n",
      "|  Akh| 31|\n",
      "| Sony| 35|\n",
      "|  Akh| 31|\n",
      "| Sony| 35|\n",
      "| Demo| 21|\n",
      "|Nibba| 16|\n",
      "|Nibbi| 17|\n",
      "+-----+---+\n",
      "\n"
     ]
    }
   ],
   "source": [
    "df1 = spark.read.csv('DataSets/dupli.csv', header=True,sep='|')\n",
    "df1.show()"
   ]
  },
  {
   "cell_type": "code",
   "execution_count": 4,
   "metadata": {},
   "outputs": [
    {
     "name": "stdout",
     "output_type": "stream",
     "text": [
      "+-----+---+\n",
      "| Name|Age|\n",
      "+-----+---+\n",
      "|  Akh| 31|\n",
      "|Nibba| 16|\n",
      "| Sony| 35|\n",
      "|Nibbi| 17|\n",
      "| Demo| 21|\n",
      "|  Nik| 26|\n",
      "+-----+---+\n",
      "\n"
     ]
    }
   ],
   "source": [
    "df1.dropDuplicates().show() #It takes columns list also"
   ]
  },
  {
   "cell_type": "code",
   "execution_count": 5,
   "metadata": {},
   "outputs": [
    {
     "name": "stdout",
     "output_type": "stream",
     "text": [
      "+-----+---+\n",
      "| Name|Age|\n",
      "+-----+---+\n",
      "|  Akh| 31|\n",
      "|Nibba| 16|\n",
      "| Sony| 35|\n",
      "|Nibbi| 17|\n",
      "| Demo| 21|\n",
      "|  Nik| 26|\n",
      "+-----+---+\n",
      "\n"
     ]
    }
   ],
   "source": [
    "df1.distinct().show() #It doesn't take any argument"
   ]
  },
  {
   "cell_type": "code",
   "execution_count": 6,
   "metadata": {},
   "outputs": [
    {
     "data": {
      "text/plain": [
       "['Name', 'Age']"
      ]
     },
     "execution_count": 6,
     "metadata": {},
     "output_type": "execute_result"
    }
   ],
   "source": [
    "df1.columns"
   ]
  },
  {
   "cell_type": "markdown",
   "metadata": {},
   "source": [
    "GroupBy:"
   ]
  },
  {
   "cell_type": "code",
   "execution_count": 8,
   "metadata": {},
   "outputs": [
    {
     "name": "stdout",
     "output_type": "stream",
     "text": [
      "+-----+---+-----+\n",
      "| Name|Age|count|\n",
      "+-----+---+-----+\n",
      "|  Akh| 31|    3|\n",
      "|Nibba| 16|    1|\n",
      "| Sony| 35|    3|\n",
      "|Nibbi| 17|    1|\n",
      "| Demo| 21|    1|\n",
      "|  Nik| 26|    2|\n",
      "+-----+---+-----+\n",
      "\n"
     ]
    }
   ],
   "source": [
    "df1.groupBy(df1.columns).count().show()"
   ]
  },
  {
   "cell_type": "code",
   "execution_count": 9,
   "metadata": {},
   "outputs": [
    {
     "name": "stdout",
     "output_type": "stream",
     "text": [
      "+----+---+-----+\n",
      "|Name|Age|count|\n",
      "+----+---+-----+\n",
      "| Akh| 31|    3|\n",
      "|Sony| 35|    3|\n",
      "| Nik| 26|    2|\n",
      "+----+---+-----+\n",
      "\n"
     ]
    }
   ],
   "source": [
    "df1.groupBy(df1.columns).count().where( \"count > 1\" ).show()"
   ]
  },
  {
   "cell_type": "code",
   "execution_count": 10,
   "metadata": {},
   "outputs": [
    {
     "name": "stdout",
     "output_type": "stream",
     "text": [
      "+----+---+\n",
      "|Name|Age|\n",
      "+----+---+\n",
      "| Akh| 31|\n",
      "|Sony| 35|\n",
      "| Nik| 26|\n",
      "+----+---+\n",
      "\n"
     ]
    }
   ],
   "source": [
    "df1.groupBy(df1.columns).count().where( \"count > 1\" ).drop('count').show()"
   ]
  },
  {
   "cell_type": "markdown",
   "metadata": {},
   "source": [
    "Window Functions - row_number() :"
   ]
  },
  {
   "cell_type": "code",
   "execution_count": 11,
   "metadata": {},
   "outputs": [],
   "source": [
    "from pyspark.sql.functions import col,row_number\n",
    "from pyspark.sql.window import Window"
   ]
  },
  {
   "cell_type": "code",
   "execution_count": 12,
   "metadata": {},
   "outputs": [],
   "source": [
    "win = Window.partitionBy(\"Name\").orderBy(col(\"Age\").desc())"
   ]
  },
  {
   "cell_type": "code",
   "execution_count": 15,
   "metadata": {},
   "outputs": [
    {
     "name": "stdout",
     "output_type": "stream",
     "text": [
      "+-----+---+----+\n",
      "| Name|Age|Rank|\n",
      "+-----+---+----+\n",
      "|  Akh| 31|   1|\n",
      "|  Akh| 31|   2|\n",
      "|  Akh| 31|   3|\n",
      "| Demo| 21|   1|\n",
      "|Nibba| 16|   1|\n",
      "|Nibbi| 17|   1|\n",
      "|  Nik| 26|   1|\n",
      "|  Nik| 26|   2|\n",
      "| Sony| 35|   1|\n",
      "| Sony| 35|   2|\n",
      "| Sony| 35|   3|\n",
      "+-----+---+----+\n",
      "\n"
     ]
    }
   ],
   "source": [
    "df1.withColumn(\"Rank\",row_number().over(win)).show()"
   ]
  },
  {
   "cell_type": "code",
   "execution_count": 17,
   "metadata": {},
   "outputs": [
    {
     "name": "stdout",
     "output_type": "stream",
     "text": [
      "+----+---+----+\n",
      "|Name|Age|Rank|\n",
      "+----+---+----+\n",
      "| Akh| 31|   2|\n",
      "| Akh| 31|   3|\n",
      "| Nik| 26|   2|\n",
      "|Sony| 35|   2|\n",
      "|Sony| 35|   3|\n",
      "+----+---+----+\n",
      "\n"
     ]
    }
   ],
   "source": [
    "df1.withColumn(\"Rank\",row_number().over(win)).where('Rank>1').show()"
   ]
  },
  {
   "cell_type": "code",
   "execution_count": 18,
   "metadata": {},
   "outputs": [
    {
     "name": "stdout",
     "output_type": "stream",
     "text": [
      "+----+---+\n",
      "|Name|Age|\n",
      "+----+---+\n",
      "| Akh| 31|\n",
      "| Nik| 26|\n",
      "|Sony| 35|\n",
      "+----+---+\n",
      "\n"
     ]
    }
   ],
   "source": [
    "df1.withColumn(\"Rank\",row_number().over(win)).where('Rank>1').drop(\"Rank\").distinct().show()"
   ]
  },
  {
   "cell_type": "code",
   "execution_count": null,
   "metadata": {},
   "outputs": [],
   "source": []
  },
  {
   "cell_type": "code",
   "execution_count": null,
   "metadata": {},
   "outputs": [],
   "source": []
  },
  {
   "cell_type": "code",
   "execution_count": null,
   "metadata": {},
   "outputs": [],
   "source": []
  }
 ],
 "metadata": {
  "kernelspec": {
   "display_name": "Python 3.8.10 64-bit",
   "language": "python",
   "name": "python3"
  },
  "language_info": {
   "codemirror_mode": {
    "name": "ipython",
    "version": 3
   },
   "file_extension": ".py",
   "mimetype": "text/x-python",
   "name": "python",
   "nbconvert_exporter": "python",
   "pygments_lexer": "ipython3",
   "version": "3.8.10"
  },
  "orig_nbformat": 4,
  "vscode": {
   "interpreter": {
    "hash": "e7370f93d1d0cde622a1f8e1c04877d8463912d04d973331ad4851f04de6915a"
   }
  }
 },
 "nbformat": 4,
 "nbformat_minor": 2
}
