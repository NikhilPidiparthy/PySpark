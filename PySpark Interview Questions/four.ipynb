{
 "cells": [
  {
   "cell_type": "code",
   "execution_count": 3,
   "metadata": {},
   "outputs": [],
   "source": [
    "from pyspark.sql import SparkSession\n",
    "\n",
    "spark = SparkSession.builder.master(\"local\").appName(\"four\").getOrCreate()"
   ]
  },
  {
   "cell_type": "code",
   "execution_count": 9,
   "metadata": {},
   "outputs": [],
   "source": [
    "from pyspark.sql.functions import regexp_replace,explode,split"
   ]
  },
  {
   "cell_type": "code",
   "execution_count": 48,
   "metadata": {},
   "outputs": [
    {
     "name": "stdout",
     "output_type": "stream",
     "text": [
      "+------------------------------------------------------------------------------------------------------------------------------------------------------------+\n",
      "|value                                                                                                                                                       |\n",
      "+------------------------------------------------------------------------------------------------------------------------------------------------------------+\n",
      "|RechargeId|Rechargedate|Remaining_days|validity|R201623|20200511|1|online|R201873|20200119|110|online|R201999|20200105|35|online|R201951|20191105|215|online|\n",
      "+------------------------------------------------------------------------------------------------------------------------------------------------------------+\n",
      "\n"
     ]
    }
   ],
   "source": [
    "df1 = spark.read.text('DataSets/reg_1.txt')\n",
    "df1.show(truncate=False)"
   ]
  },
  {
   "cell_type": "code",
   "execution_count": 49,
   "metadata": {},
   "outputs": [
    {
     "name": "stdout",
     "output_type": "stream",
     "text": [
      "+----------------------------------------------------------------------------------------------------------------------------------------------------------------+\n",
      "|NewCol                                                                                                                                                          |\n",
      "+----------------------------------------------------------------------------------------------------------------------------------------------------------------+\n",
      "|RechargeId|Rechargedate|Remaining_days|validity|=R201623|20200511|1|online|=R201873|20200119|110|online|=R201999|20200105|35|online|=R201951|20191105|215|online|\n",
      "+----------------------------------------------------------------------------------------------------------------------------------------------------------------+\n",
      "\n"
     ]
    }
   ],
   "source": [
    "df2 = df1.withColumn(\"NewCol\",regexp_replace(df1.value,\"(.*?\\\\|){4}\",\"$0=\")).drop('value')\n",
    "df2.show(truncate=False)"
   ]
  },
  {
   "cell_type": "code",
   "execution_count": 56,
   "metadata": {},
   "outputs": [
    {
     "name": "stdout",
     "output_type": "stream",
     "text": [
      "+-----------------------------------------------+\n",
      "|Exp                                            |\n",
      "+-----------------------------------------------+\n",
      "|RechargeId|Rechargedate|Remaining_days|validity|\n",
      "|R201623|20200511|1|online                      |\n",
      "|R201873|20200119|110|online                    |\n",
      "|R201999|20200105|35|online                     |\n",
      "|R201951|20191105|215|online                    |\n",
      "+-----------------------------------------------+\n",
      "\n"
     ]
    }
   ],
   "source": [
    "df3 = df2.withColumn(\"Exp\",explode(split(df2.NewCol,'\\|='))).drop('NewCol')\n",
    "df3.show(truncate=False)"
   ]
  },
  {
   "cell_type": "code",
   "execution_count": 73,
   "metadata": {},
   "outputs": [
    {
     "name": "stdout",
     "output_type": "stream",
     "text": [
      "+----------------------------------------------------+----------+------------+--------------+--------+\n",
      "|Splitted                                            |One       |Two         |Three         |Four    |\n",
      "+----------------------------------------------------+----------+------------+--------------+--------+\n",
      "|[RechargeId, Rechargedate, Remaining_days, validity]|RechargeId|Rechargedate|Remaining_days|validity|\n",
      "|[R201623, 20200511, 1, online]                      |R201623   |20200511    |1             |online  |\n",
      "|[R201873, 20200119, 110, online]                    |R201873   |20200119    |110           |online  |\n",
      "|[R201999, 20200105, 35, online]                     |R201999   |20200105    |35            |online  |\n",
      "|[R201951, 20191105, 215, online]                    |R201951   |20191105    |215           |online  |\n",
      "+----------------------------------------------------+----------+------------+--------------+--------+\n",
      "\n"
     ]
    }
   ],
   "source": [
    "df4 = df3.withColumn(\"Splitted\",split(df3.Exp,'\\|')) \\\n",
    "        .withColumn(\"One\",split(df3.Exp,'\\|')[0]) \\\n",
    "        .withColumn(\"Two\",split(df3.Exp,'\\|')[1]) \\\n",
    "        .withColumn(\"Three\",split(df3.Exp,'\\|')[2])\\\n",
    "        .withColumn(\"Four\",split(df3.Exp,'\\|')[3]) \\\n",
    "        .drop('Exp')\n",
    "df4.show(truncate=False)"
   ]
  },
  {
   "cell_type": "code",
   "execution_count": null,
   "metadata": {},
   "outputs": [],
   "source": []
  },
  {
   "cell_type": "code",
   "execution_count": null,
   "metadata": {},
   "outputs": [],
   "source": []
  }
 ],
 "metadata": {
  "kernelspec": {
   "display_name": "Python 3.8.10 64-bit",
   "language": "python",
   "name": "python3"
  },
  "language_info": {
   "codemirror_mode": {
    "name": "ipython",
    "version": 3
   },
   "file_extension": ".py",
   "mimetype": "text/x-python",
   "name": "python",
   "nbconvert_exporter": "python",
   "pygments_lexer": "ipython3",
   "version": "3.8.10"
  },
  "orig_nbformat": 4,
  "vscode": {
   "interpreter": {
    "hash": "e7370f93d1d0cde622a1f8e1c04877d8463912d04d973331ad4851f04de6915a"
   }
  }
 },
 "nbformat": 4,
 "nbformat_minor": 2
}
