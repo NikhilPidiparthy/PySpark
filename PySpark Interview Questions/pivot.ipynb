{
 "cells": [
  {
   "cell_type": "code",
   "execution_count": 1,
   "metadata": {},
   "outputs": [
    {
     "name": "stderr",
     "output_type": "stream",
     "text": [
      "Setting default log level to \"WARN\".\n",
      "To adjust logging level use sc.setLogLevel(newLevel). For SparkR, use setLogLevel(newLevel).\n",
      "23/02/25 22:15:30 WARN NativeCodeLoader: Unable to load native-hadoop library for your platform... using builtin-java classes where applicable\n"
     ]
    }
   ],
   "source": [
    "from pyspark.sql import SparkSession\n",
    "\n",
    "spark = SparkSession.builder.master(\"local\").appName(\"pivot_ex_1\").getOrCreate()"
   ]
  },
  {
   "cell_type": "code",
   "execution_count": 8,
   "metadata": {},
   "outputs": [
    {
     "name": "stdout",
     "output_type": "stream",
     "text": [
      "+---+-------+-----+\n",
      "| Id|    Sub|Marks|\n",
      "+---+-------+-----+\n",
      "|  1|English|   95|\n",
      "|  1|  Maths|  100|\n",
      "|  1|Physics|   98|\n",
      "|  2|English|   88|\n",
      "|  2|  Maths|   90|\n",
      "|  2|Physics|   92|\n",
      "|  3|English|   85|\n",
      "|  3|  Maths|   89|\n",
      "|  3|Physics|   78|\n",
      "+---+-------+-----+\n",
      "\n"
     ]
    }
   ],
   "source": [
    "df1 = spark.read.csv('DataSets/piv_ex1.csv', header=True,inferSchema=True)\n",
    "df1.show()"
   ]
  },
  {
   "cell_type": "code",
   "execution_count": 16,
   "metadata": {},
   "outputs": [
    {
     "name": "stdout",
     "output_type": "stream",
     "text": [
      "root\n",
      " |-- Id: integer (nullable = true)\n",
      " |-- Sub: string (nullable = true)\n",
      " |-- Marks: integer (nullable = true)\n",
      "\n"
     ]
    }
   ],
   "source": [
    "df1.printSchema()"
   ]
  },
  {
   "cell_type": "code",
   "execution_count": 13,
   "metadata": {},
   "outputs": [
    {
     "name": "stdout",
     "output_type": "stream",
     "text": [
      "+---+----------+\n",
      "| Id|sum(Marks)|\n",
      "+---+----------+\n",
      "|  1|       293|\n",
      "|  3|       252|\n",
      "|  2|       270|\n",
      "+---+----------+\n",
      "\n"
     ]
    }
   ],
   "source": [
    "df1.groupBy(\"Id\").sum('Marks').show()"
   ]
  },
  {
   "cell_type": "code",
   "execution_count": 24,
   "metadata": {},
   "outputs": [],
   "source": [
    "from pyspark.sql.functions import col"
   ]
  },
  {
   "cell_type": "code",
   "execution_count": 25,
   "metadata": {},
   "outputs": [
    {
     "name": "stdout",
     "output_type": "stream",
     "text": [
      "+---+-------+-----+-------+-----+\n",
      "| Id|English|Maths|Physics|Total|\n",
      "+---+-------+-----+-------+-----+\n",
      "|  1|     95|  100|     98|  293|\n",
      "|  3|     85|   89|     78|  252|\n",
      "|  2|     88|   90|     92|  270|\n",
      "+---+-------+-----+-------+-----+\n",
      "\n"
     ]
    }
   ],
   "source": [
    "df2 = df1.groupBy(\"Id\").pivot('Sub').sum('Marks')\n",
    "df2 = df2.withColumn('Total',col('English')+col('Maths')+col('Physics'))\n",
    "df2.show()"
   ]
  }
 ],
 "metadata": {
  "kernelspec": {
   "display_name": "Python 3.8.10 64-bit",
   "language": "python",
   "name": "python3"
  },
  "language_info": {
   "codemirror_mode": {
    "name": "ipython",
    "version": 3
   },
   "file_extension": ".py",
   "mimetype": "text/x-python",
   "name": "python",
   "nbconvert_exporter": "python",
   "pygments_lexer": "ipython3",
   "version": "3.8.10"
  },
  "orig_nbformat": 4,
  "vscode": {
   "interpreter": {
    "hash": "e7370f93d1d0cde622a1f8e1c04877d8463912d04d973331ad4851f04de6915a"
   }
  }
 },
 "nbformat": 4,
 "nbformat_minor": 2
}
