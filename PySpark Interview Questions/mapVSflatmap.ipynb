{
 "cells": [
  {
   "cell_type": "code",
   "execution_count": 1,
   "metadata": {},
   "outputs": [
    {
     "name": "stderr",
     "output_type": "stream",
     "text": [
      "Setting default log level to \"WARN\".\n",
      "To adjust logging level use sc.setLogLevel(newLevel). For SparkR, use setLogLevel(newLevel).\n",
      "23/02/25 19:15:33 WARN NativeCodeLoader: Unable to load native-hadoop library for your platform... using builtin-java classes where applicable\n"
     ]
    }
   ],
   "source": [
    "from pyspark.sql import SparkSession\n",
    "\n",
    "spark = SparkSession.builder.master(\"local\").appName(\"Flat1\").getOrCreate()"
   ]
  },
  {
   "cell_type": "code",
   "execution_count": 2,
   "metadata": {},
   "outputs": [],
   "source": [
    "sc = spark.sparkContext"
   ]
  },
  {
   "cell_type": "code",
   "execution_count": 5,
   "metadata": {},
   "outputs": [
    {
     "data": {
      "text/plain": [
       "['Name|Age|Gender',\n",
       " 'Tamar,Reddy|26|Male',\n",
       " 'Roti,Pedda|11|Female',\n",
       " 'Billa,Pow|35|Male',\n",
       " 'Kiddy,Bid|21|Male',\n",
       " 'Vaddi,Naddi|16|Female']"
      ]
     },
     "execution_count": 5,
     "metadata": {},
     "output_type": "execute_result"
    }
   ],
   "source": [
    "R1 = sc.textFile('DataSets/file2.csv')\n",
    "R1.collect()"
   ]
  },
  {
   "cell_type": "code",
   "execution_count": 11,
   "metadata": {},
   "outputs": [
    {
     "data": {
      "text/plain": [
       "[['Name', 'Age', 'Gender'],\n",
       " ['Tamar,Reddy', '26', 'Male'],\n",
       " ['Roti,Pedda', '11', 'Female'],\n",
       " ['Billa,Pow', '35', 'Male'],\n",
       " ['Kiddy,Bid', '21', 'Male'],\n",
       " ['Vaddi,Naddi', '16', 'Female']]"
      ]
     },
     "execution_count": 11,
     "metadata": {},
     "output_type": "execute_result"
    }
   ],
   "source": [
    "R1.map(lambda x:x.split(\"|\")).collect()"
   ]
  },
  {
   "cell_type": "code",
   "execution_count": 8,
   "metadata": {},
   "outputs": [
    {
     "data": {
      "text/plain": [
       "6"
      ]
     },
     "execution_count": 8,
     "metadata": {},
     "output_type": "execute_result"
    }
   ],
   "source": [
    "R1.count()"
   ]
  },
  {
   "cell_type": "code",
   "execution_count": 9,
   "metadata": {},
   "outputs": [
    {
     "data": {
      "text/plain": [
       "['Name|Age|Gender',\n",
       " 'Tamar,Reddy|26|Male',\n",
       " 'Roti,Pedda|11|Female',\n",
       " 'Billa,Pow|35|Male',\n",
       " 'Kiddy,Bid|21|Male',\n",
       " 'Vaddi,Naddi|16|Female']"
      ]
     },
     "execution_count": 9,
     "metadata": {},
     "output_type": "execute_result"
    }
   ],
   "source": [
    "R1.collect()"
   ]
  },
  {
   "cell_type": "code",
   "execution_count": 13,
   "metadata": {},
   "outputs": [
    {
     "data": {
      "text/plain": [
       "['Name',\n",
       " 'Age',\n",
       " 'Gender',\n",
       " 'Tamar,Reddy',\n",
       " '26',\n",
       " 'Male',\n",
       " 'Roti,Pedda',\n",
       " '11',\n",
       " 'Female',\n",
       " 'Billa,Pow',\n",
       " '35',\n",
       " 'Male',\n",
       " 'Kiddy,Bid',\n",
       " '21',\n",
       " 'Male',\n",
       " 'Vaddi,Naddi',\n",
       " '16',\n",
       " 'Female']"
      ]
     },
     "execution_count": 13,
     "metadata": {},
     "output_type": "execute_result"
    }
   ],
   "source": [
    "R1.flatMap(lambda x:x.split(\"|\")).collect()"
   ]
  },
  {
   "cell_type": "markdown",
   "metadata": {},
   "source": [
    "map :It returns a new RDD by applying a function to each element of the RDD.   \n",
    "Function in map can return only one item.\n",
    "\n",
    "\n",
    "flatMap: Similar to map, it returns a new RDD by applying  a function to each element of the RDD, but output is flattened."
   ]
  },
  {
   "cell_type": "markdown",
   "metadata": {},
   "source": [
    "The map() transformation takes in a function and applies it to each element in the RDD and the result of the function is a new value of each element in the resulting RDD. \n",
    "\n",
    "The flatMap() is used to produce multiple output elements for each input element. When using map(), the function we provide to flatMap() is called individually for each element in our input RDD. Instead of returning a single element, an iterator with the return values is returned."
   ]
  }
 ],
 "metadata": {
  "kernelspec": {
   "display_name": "Python 3.8.10 64-bit",
   "language": "python",
   "name": "python3"
  },
  "language_info": {
   "codemirror_mode": {
    "name": "ipython",
    "version": 3
   },
   "file_extension": ".py",
   "mimetype": "text/x-python",
   "name": "python",
   "nbconvert_exporter": "python",
   "pygments_lexer": "ipython3",
   "version": "3.8.10"
  },
  "orig_nbformat": 4,
  "vscode": {
   "interpreter": {
    "hash": "e7370f93d1d0cde622a1f8e1c04877d8463912d04d973331ad4851f04de6915a"
   }
  }
 },
 "nbformat": 4,
 "nbformat_minor": 2
}
