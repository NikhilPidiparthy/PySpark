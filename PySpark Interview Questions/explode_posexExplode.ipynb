{
 "cells": [
  {
   "cell_type": "code",
   "execution_count": 1,
   "metadata": {},
   "outputs": [
    {
     "name": "stderr",
     "output_type": "stream",
     "text": [
      "Setting default log level to \"WARN\".\n",
      "To adjust logging level use sc.setLogLevel(newLevel). For SparkR, use setLogLevel(newLevel).\n",
      "23/02/26 11:52:07 WARN NativeCodeLoader: Unable to load native-hadoop library for your platform... using builtin-java classes where applicable\n"
     ]
    }
   ],
   "source": [
    "from pyspark.sql import SparkSession\n",
    "\n",
    "spark = SparkSession.builder.master(\"local\").appName(\"ex_10\").getOrCreate()"
   ]
  },
  {
   "cell_type": "code",
   "execution_count": 2,
   "metadata": {},
   "outputs": [
    {
     "data": {
      "text/html": [
       "\n",
       "        <div>\n",
       "            <p><b>SparkContext</b></p>\n",
       "\n",
       "            <p><a href=\"http://635808973f81:4040\">Spark UI</a></p>\n",
       "\n",
       "            <dl>\n",
       "              <dt>Version</dt>\n",
       "                <dd><code>v3.2.1</code></dd>\n",
       "              <dt>Master</dt>\n",
       "                <dd><code>local</code></dd>\n",
       "              <dt>AppName</dt>\n",
       "                <dd><code>ex_10</code></dd>\n",
       "            </dl>\n",
       "        </div>\n",
       "        "
      ],
      "text/plain": [
       "<SparkContext master=local appName=ex_10>"
      ]
     },
     "execution_count": 2,
     "metadata": {},
     "output_type": "execute_result"
    }
   ],
   "source": [
    "sc = spark.sparkContext\n",
    "sc"
   ]
  },
  {
   "cell_type": "code",
   "execution_count": 10,
   "metadata": {},
   "outputs": [
    {
     "name": "stdout",
     "output_type": "stream",
     "text": [
      "+-----+---+--------+\n",
      "|Name |Age|Couses  |\n",
      "+-----+---+--------+\n",
      "|Nikhi|25 |C1,C2,C3|\n",
      "|Raaki|24 |C1      |\n",
      "|Kaaki|28 |null    |\n",
      "|Jaaki|22 |C1,C2   |\n",
      "|Maaki|20 |null    |\n",
      "+-----+---+--------+\n",
      "\n"
     ]
    }
   ],
   "source": [
    "D1 = spark.read.csv('DataSets/ex_1.csv',header=True,sep='|')\n",
    "D1.show(truncate=False)"
   ]
  },
  {
   "cell_type": "code",
   "execution_count": 4,
   "metadata": {},
   "outputs": [],
   "source": [
    "from pyspark.sql.functions import split, explode,explode_outer,posexplode, posexplode_outer"
   ]
  },
  {
   "cell_type": "code",
   "execution_count": 5,
   "metadata": {},
   "outputs": [
    {
     "name": "stdout",
     "output_type": "stream",
     "text": [
      "+-----+---+--------+---+\n",
      "| Name|Age|  Couses| N_|\n",
      "+-----+---+--------+---+\n",
      "|Nikhi| 25|C1,C2,C3| C1|\n",
      "|Nikhi| 25|C1,C2,C3| C2|\n",
      "|Nikhi| 25|C1,C2,C3| C3|\n",
      "|Raaki| 24|      C1| C1|\n",
      "|Jaaki| 22|   C1,C2| C1|\n",
      "|Jaaki| 22|   C1,C2| C2|\n",
      "+-----+---+--------+---+\n",
      "\n"
     ]
    }
   ],
   "source": [
    "D2 = D1.withColumn(\"N_\",explode(split('Couses',',')))\n",
    "D2.show()"
   ]
  },
  {
   "cell_type": "code",
   "execution_count": 6,
   "metadata": {},
   "outputs": [
    {
     "name": "stdout",
     "output_type": "stream",
     "text": [
      "+-----+---+--------+----+\n",
      "| Name|Age|  Couses|   N|\n",
      "+-----+---+--------+----+\n",
      "|Nikhi| 25|C1,C2,C3|  C1|\n",
      "|Nikhi| 25|C1,C2,C3|  C2|\n",
      "|Nikhi| 25|C1,C2,C3|  C3|\n",
      "|Raaki| 24|      C1|  C1|\n",
      "|Kaaki| 28|    null|null|\n",
      "|Jaaki| 22|   C1,C2|  C1|\n",
      "|Jaaki| 22|   C1,C2|  C2|\n",
      "|Maaki| 20|    null|null|\n",
      "+-----+---+--------+----+\n",
      "\n"
     ]
    }
   ],
   "source": [
    "D2 = D1.withColumn(\"N\",explode_outer(split('Couses',',')))\n",
    "D2.show()"
   ]
  },
  {
   "cell_type": "code",
   "execution_count": null,
   "metadata": {},
   "outputs": [],
   "source": [
    "explode: It doesnot display null values\n",
    "\n",
    "explode_outer: It displayes null values also\n",
    "\n",
    "posexplode:\n",
    "It gives position and value for not all\n",
    "\n",
    "\n",
    "posexplode_outer:\n",
    "It gives position and value for all including null values also"
   ]
  },
  {
   "cell_type": "code",
   "execution_count": 7,
   "metadata": {},
   "outputs": [
    {
     "name": "stdout",
     "output_type": "stream",
     "text": [
      "+-----+---+--------+---+------+\n",
      "| Name|Age|  Couses|pos|Course|\n",
      "+-----+---+--------+---+------+\n",
      "|Nikhi| 25|C1,C2,C3|  0|    C1|\n",
      "|Nikhi| 25|C1,C2,C3|  1|    C2|\n",
      "|Nikhi| 25|C1,C2,C3|  2|    C3|\n",
      "|Raaki| 24|      C1|  0|    C1|\n",
      "|Jaaki| 22|   C1,C2|  0|    C1|\n",
      "|Jaaki| 22|   C1,C2|  1|    C2|\n",
      "+-----+---+--------+---+------+\n",
      "\n"
     ]
    }
   ],
   "source": [
    "D2 = D1.select(\"*\",posexplode(split('Couses',','))).withColumnRenamed(\"col\",\"Course\")\n",
    "D2.show()"
   ]
  },
  {
   "cell_type": "code",
   "execution_count": 8,
   "metadata": {},
   "outputs": [
    {
     "name": "stdout",
     "output_type": "stream",
     "text": [
      "+-----+---+--------+----+------+\n",
      "| Name|Age|  Couses| pos|Course|\n",
      "+-----+---+--------+----+------+\n",
      "|Nikhi| 25|C1,C2,C3|   0|    C1|\n",
      "|Nikhi| 25|C1,C2,C3|   1|    C2|\n",
      "|Nikhi| 25|C1,C2,C3|   2|    C3|\n",
      "|Raaki| 24|      C1|   0|    C1|\n",
      "|Kaaki| 28|    null|null|  null|\n",
      "|Jaaki| 22|   C1,C2|   0|    C1|\n",
      "|Jaaki| 22|   C1,C2|   1|    C2|\n",
      "|Maaki| 20|    null|null|  null|\n",
      "+-----+---+--------+----+------+\n",
      "\n"
     ]
    }
   ],
   "source": [
    "D2 = D1.select(\"*\",posexplode_outer(split('Couses',','))).withColumnRenamed(\"col\",\"Course\")\n",
    "D2.show()\n"
   ]
  },
  {
   "cell_type": "code",
   "execution_count": null,
   "metadata": {},
   "outputs": [],
   "source": []
  },
  {
   "cell_type": "code",
   "execution_count": null,
   "metadata": {},
   "outputs": [],
   "source": []
  },
  {
   "cell_type": "code",
   "execution_count": null,
   "metadata": {},
   "outputs": [],
   "source": []
  },
  {
   "cell_type": "code",
   "execution_count": null,
   "metadata": {},
   "outputs": [],
   "source": []
  }
 ],
 "metadata": {
  "kernelspec": {
   "display_name": "Python 3.8.10 64-bit",
   "language": "python",
   "name": "python3"
  },
  "language_info": {
   "codemirror_mode": {
    "name": "ipython",
    "version": 3
   },
   "file_extension": ".py",
   "mimetype": "text/x-python",
   "name": "python",
   "nbconvert_exporter": "python",
   "pygments_lexer": "ipython3",
   "version": "3.8.10"
  },
  "orig_nbformat": 4,
  "vscode": {
   "interpreter": {
    "hash": "e7370f93d1d0cde622a1f8e1c04877d8463912d04d973331ad4851f04de6915a"
   }
  }
 },
 "nbformat": 4,
 "nbformat_minor": 2
}
