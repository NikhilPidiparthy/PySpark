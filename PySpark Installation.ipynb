{
 "cells": [
  {
   "cell_type": "markdown",
   "metadata": {},
   "source": [
    "# Steps to Install:\n",
    "\n",
    "\n",
    "--- Make sure Java has already installed in  your system. Check by typing \"java\"(without quotes) in your Command Prompt  \n",
    "\n",
    "--- If Java is not installed, then go to Java SE Development Kit url https://www.oracle.com/java/technologies/downloads/#java8 download and install based on your system configuration, then setup below\n",
    "\n",
    "1. Setup the User Variable PATH with value \"C:\\Program Files\\Java\\jdk-19\\bin\" without quotes \n",
    "\n",
    "2. Setup the Environmental Variable JAVA_HOME with value \"C:\\Program Files\\Java\\jdk-19\" without quotes\n",
    "\n",
    "--- Install the Apache Spark, go to url https://spark.apache.org/downloads.html, download the tar file, extract it in your C drive. Then setup the below\n",
    "\n",
    "1. Setup the User Variable PATH with value \"C:\\Program Files\\spark-3.3.0-bin-hadoop3\\bin\" without quotes\n",
    "\n",
    "2. Setup the Environmental Variables SPARK_HOME, HADOOP_HOME with the value \"C:\\Program Files\\spark-3.3.0-bin-hadoop3\" without quotes\n",
    "   "
   ]
  },
  {
   "cell_type": "code",
   "execution_count": 1,
   "metadata": {},
   "outputs": [
    {
     "name": "stdout",
     "output_type": "stream",
     "text": [
      "Requirement already satisfied: pyspark in c:\\programdata\\anaconda3\\lib\\site-packages (3.3.0)\n",
      "Requirement already satisfied: py4j==0.10.9.5 in c:\\programdata\\anaconda3\\lib\\site-packages (from pyspark) (0.10.9.5)\n"
     ]
    }
   ],
   "source": [
    "# installation PySpark in Jupyter\n",
    "!pip install pyspark"
   ]
  },
  {
   "cell_type": "code",
   "execution_count": 2,
   "metadata": {},
   "outputs": [
    {
     "name": "stdout",
     "output_type": "stream",
     "text": [
      "Requirement already satisfied: findspark in c:\\programdata\\anaconda3\\lib\\site-packages (2.0.1)\n"
     ]
    }
   ],
   "source": [
    "!pip install findspark"
   ]
  },
  {
   "cell_type": "code",
   "execution_count": 3,
   "metadata": {},
   "outputs": [
    {
     "name": "stdout",
     "output_type": "stream",
     "text": [
      "C:\\Program Files\\spark-3.3.0-bin-hadoop3\n"
     ]
    }
   ],
   "source": [
    "import findspark\n",
    "#print(findspark.init())\n",
    "print(findspark.find())"
   ]
  },
  {
   "cell_type": "code",
   "execution_count": 4,
   "metadata": {},
   "outputs": [
    {
     "name": "stdout",
     "output_type": "stream",
     "text": [
      "PySpark version is: 3.3.0\n"
     ]
    }
   ],
   "source": [
    "import pyspark\n",
    "from pyspark.sql import SparkSession\n",
    "\n",
    "# Creating SparkSession\n",
    "spark = SparkSession.builder.master(\"local[*]\") \\\n",
    "                    .appName('nikhilpidiparthy.com') \\\n",
    "                    .getOrCreate()\n",
    "\n",
    "print(\"PySpark version is:\", spark.version)"
   ]
  },
  {
   "cell_type": "code",
   "execution_count": null,
   "metadata": {},
   "outputs": [],
   "source": []
  }
 ],
 "metadata": {
  "kernelspec": {
   "display_name": "Python 3",
   "language": "python",
   "name": "python3"
  },
  "language_info": {
   "codemirror_mode": {
    "name": "ipython",
    "version": 3
   },
   "file_extension": ".py",
   "mimetype": "text/x-python",
   "name": "python",
   "nbconvert_exporter": "python",
   "pygments_lexer": "ipython3",
   "version": "3.8.5"
  }
 },
 "nbformat": 4,
 "nbformat_minor": 4
}
